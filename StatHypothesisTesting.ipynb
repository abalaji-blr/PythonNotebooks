{
 "cells": [
  {
   "cell_type": "markdown",
   "metadata": {},
   "source": [
    "# Hypothesis Testing"
   ]
  },
  {
   "cell_type": "markdown",
   "metadata": {},
   "source": [
    "`Let's review the main terminologies and visit the Hypothesis testing.\n",
    "`"
   ]
  },
  {
   "cell_type": "markdown",
   "metadata": {},
   "source": [
    "* Population\n",
    "    *  The **population** refers to large collection of objects or individuals.\n",
    "    *  The **parameter of the population** refers to a summary number like average or percentage that describes the population. \n",
    "* Sample\n",
    "    *  The **sample** refers to the subset of objects from the collection.\n",
    "    *  The **statistic** refers to a summary number of a sample"
   ]
  },
  {
   "cell_type": "markdown",
   "metadata": {},
   "source": [
    "### How do you find out the population parameter?"
   ]
  },
  {
   "cell_type": "markdown",
   "metadata": {},
   "source": [
    " `There are two ways to learn about the population parameter.`"
   ]
  },
  {
   "cell_type": "markdown",
   "metadata": {},
   "source": [
    "* **Confidence Interval**\n",
    "    *  We can use Confidence Interval to estimate the population parameter.\n",
    "* **Hypothesis Testing**\n",
    "    *  We can use Hypothesis testing to test and draw conclusion about the value of the parameter."
   ]
  },
  {
   "cell_type": "markdown",
   "metadata": {},
   "source": [
    "## Confidence Interval"
   ]
  },
  {
   "cell_type": "markdown",
   "metadata": {},
   "source": [
    "`Suppose we want to find out the mean of the population then we can sample the data many times and calculate the range of the sample mean. The range of the mean provides the lower and upper bounds for the population mean.`\n",
    "\n",
    "$$ lowerBound < populationMean < upperBound$$\n",
    "\n",
    "`ie., `\n",
    "\n",
    "$$ sampleEstimate \\pm margin  of  error$$\n",
    "\n"
   ]
  },
  {
   "cell_type": "markdown",
   "metadata": {},
   "source": [
    "## Hypothesis Testing"
   ]
  },
  {
   "cell_type": "markdown",
   "metadata": {},
   "source": [
    "### General approach "
   ]
  },
  {
   "cell_type": "markdown",
   "metadata": {},
   "source": [
    " ` The general idea of Hypothesis test involves`\n",
    " \n",
    " 1) Making an initial assumption.\n",
    " \n",
    " 2) Collecting the evidence (from data)\n",
    " \n",
    " 3) Based on evidence, rejecting or not rejecting the initial assumption.\n"
   ]
  },
  {
   "cell_type": "markdown",
   "metadata": {},
   "source": [
    "In Statistics, when we make initial assumption - we make two competing hypothesis-:\n",
    "* **Null Hypothesis - $H_0$**\n",
    "* **Alternative Hypothesis - $H_A$**"
   ]
  },
  {
   "cell_type": "markdown",
   "metadata": {},
   "source": [
    "In Statics, we always assume **the Null hypothesis** is **true**.\n",
    "\n",
    "We always make one of two things - **reject** the null hypothesis or **failed to reject** (ie., retain) the null hypothesis.\n",
    "\n",
    "Note that we make decision based on the **evidence**. So, there is no guaranteed 100% proof. There is a chance for error."
   ]
  },
  {
   "cell_type": "markdown",
   "metadata": {},
   "source": [
    "| | Truth |   |\n",
    "|---------|-------|\n",
    "| **Decision** | Not Guilty     |   Guilty   |\n",
    "| Not Guilty | OK | **Type 2 Error** |\n",
    "| Guilty | **Type 1 Error** | OK |\n",
    "\n"
   ]
  },
  {
   "cell_type": "markdown",
   "metadata": {},
   "source": [
    "**Type 1 Error**: the null hypothesis is rejected when it is **true**.\n",
    "\n",
    "**Type 2 Error**: the null hypothesis is not rejected when it is **false**."
   ]
  },
  {
   "cell_type": "markdown",
   "metadata": {},
   "source": [
    "### Decision Criteria"
   ]
  },
  {
   "cell_type": "markdown",
   "metadata": {},
   "source": [
    "In Statistics, there are two ways to find out whether the evidence is **likely or unlikely** supports the initial assumption. They are:\n",
    "\n",
    "* **Critical value apporach**\n",
    "    * It involves comparing the **test statistic** with the **cut off value**, which is called **critical value**.\n",
    "    * Calculate the **test statistics**.\n",
    "    * If the **test statistic** is more extreme when compared with the critical value, then reject the null hypothesis.\n",
    "    * If the **test statistic** is less extreme / or close to **critical value**, then the null hypothesis is not rejected.\n",
    "    \n",
    "* **p-value approach**\n",
    "    * Set the null and alternative hypothesis.\n",
    "    * Calculate the **test statistics**.\n",
    "    * Using the known distribution of sample, calculate the **p-value**. The **p-value** is the evidence that supports null hypothesis.\n",
    "    * Set the significance level, $\\alpha$, the probability of making the **Type I Error**.\n",
    "    * Compare the **p-value** with $\\alpha$.\n",
    "        * if **p-value < (or equal to) $\\alpha$ => Reject Null Hypothesis**\n",
    "        * if **p-value > $\\alpha$ => Accept / Retain / Fail to reject the Null Hypothesis**"
   ]
  },
  {
   "cell_type": "markdown",
   "metadata": {},
   "source": [
    "### How to calculate the test statistic?"
   ]
  },
  {
   "cell_type": "markdown",
   "metadata": {},
   "source": [
    "* **t-statistics**: When the population mean $\\mu$ is known and the standard deviation is **$\\sigma$ is not available**, we can use the t-statistics.\n",
    "\n",
    "$$t-statistic = \\frac {\\bar{x} - \\mu}{s / \\sqrt{n}}   $$\n",
    "$\\bar{x}$ is sample mean and\n",
    "      s is sample standard deviation"
   ]
  },
  {
   "cell_type": "markdown",
   "metadata": {},
   "source": [
    "* **z-statistics**: When the **population mean $\\mu$ is known** and also the **standard deviation is $\\sigma$ is also known**, z-statistics can be used.\n",
    "\n",
    "$$ z-statistic = \\frac {\\bar{x} - \\mu}{\\sigma / \\sqrt{n}}$$\n",
    "where $\\bar{x}$ is the sample mean and $\\sigma$ is population standard deviation."
   ]
  },
  {
   "cell_type": "markdown",
   "metadata": {},
   "source": [
    "### How to calculate the cut off / critical value?\n",
    "\n",
    "The **significance value** $\\alpha$ is the threshold conditional probability of rejecting the null hypothesis when the null hypothesis is true. In other words, it is the value of the **Type I Error**.\n",
    "\n",
    "Typically, the value of $\\alpha$ is 0.01, 0.05 or 0.02 based on the context of the problem.\n",
    "\n",
    "**Significance value $\\alpha$ = P(Rejecting Null Hypothesis | null hypothesis is true).**\n",
    "\n",
    "The **critical value** is determined by finding the value of the known distribution of the test statistic such that the probability of making the type I error."
   ]
  },
  {
   "cell_type": "markdown",
   "metadata": {},
   "source": [
    "### One-Tailed or Two-Tailed Test"
   ]
  },
  {
   "cell_type": "markdown",
   "metadata": {},
   "source": [
    "Note that the equality symbol is always part of Null Hypothesis."
   ]
  },
  {
   "cell_type": "markdown",
   "metadata": {},
   "source": [
    "| Type | Null | Alternative | z-statistics |\n",
    "| ------------------------------------- |\n",
    "| Right Tailed | $H_0$ = xyz_value|  $H_A$ > xyz_value | NORM.S.INV(1-$\\alpha$)|\n",
    "| Left Tailed | $H_0$ = xyz_value | $H_A$ < xyz_value | NORM.S.INV($\\alpha)$ |\n",
    "| Two Tailed | $H_0$ = xyz_value| $H_A$ $\\ne$ xyz_value | NORM.S.INV($\\alpha/2$) and NORM.S.INV(1 - $\\alpha/2$) |\n",
    "\n"
   ]
  },
  {
   "cell_type": "markdown",
   "metadata": {},
   "source": [
    "## What are the MS Excel functions for Statistics?"
   ]
  },
  {
   "cell_type": "markdown",
   "metadata": {},
   "source": [
    "Visit [this](http://www.excelfunctions.net/Excel-Statistical-Functions.html) website for MS Excel functions for statistics. \n",
    "\n",
    "Some of the important ones are:\n",
    "\n",
    "* NORM.S.DIST(z, flag_cumulative_or_not) : Returns probabilty. Uses Standard Normal Distribution\n",
    "* NORM.S.INV(probability) : Returns the inverse of cumulative standard normal distribution.\n"
   ]
  },
  {
   "cell_type": "code",
   "execution_count": null,
   "metadata": {
    "collapsed": true
   },
   "outputs": [],
   "source": []
  }
 ],
 "metadata": {
  "kernelspec": {
   "display_name": "Python 2",
   "language": "python",
   "name": "python2"
  },
  "language_info": {
   "codemirror_mode": {
    "name": "ipython",
    "version": 2
   },
   "file_extension": ".py",
   "mimetype": "text/x-python",
   "name": "python",
   "nbconvert_exporter": "python",
   "pygments_lexer": "ipython2",
   "version": "2.7.13"
  }
 },
 "nbformat": 4,
 "nbformat_minor": 2
}
