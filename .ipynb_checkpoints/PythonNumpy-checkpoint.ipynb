{
 "cells": [
  {
   "cell_type": "markdown",
   "metadata": {},
   "source": [
    "## Python Numpy"
   ]
  },
  {
   "cell_type": "markdown",
   "metadata": {},
   "source": [
    "### Table of Contents\n",
    "* [About SciPy](#scipy)\n",
    "\n",
    "* References:\n",
    "* [NumPy reference](https://docs.scipy.org/doc/numpy/reference/)\n",
    "* [NumPy Basics](https://docs.scipy.org/doc/numpy/user/basics.html)\n",
    "* [Stanford CS231n : Python Numpy Tutorial](http://cs231n.github.io/python-numpy-tutorial/)\n",
    "* [Stanford CS228 : Notebook: Python Numpy Tutorials ](https://github.com/kuleshov/cs228-material/blob/master/tutorials/python/cs228-python-tutorial.ipynb)"
   ]
  },
  {
   "cell_type": "markdown",
   "metadata": {},
   "source": [
    "## About SciPy"
   ]
  },
  {
   "cell_type": "markdown",
   "metadata": {},
   "source": [
    "SciPy is a Python based ecosystem of open source software for Mathematics, Science and Engineering.\n",
    "Following are some of the core packages:\n",
    "\n",
    "* NumPy - Base N dimensional array\n",
    "* Pandas - Data structures and analysis\n",
    "* Matplotlib - plotting\n",
    "*"
   ]
  },
  {
   "cell_type": "code",
   "execution_count": 1,
   "metadata": {
    "collapsed": true
   },
   "outputs": [],
   "source": [
    "import numpy as np"
   ]
  },
  {
   "cell_type": "code",
   "execution_count": 3,
   "metadata": {
    "collapsed": false
   },
   "outputs": [
    {
     "name": "stdout",
     "output_type": "stream",
     "text": [
      "[1 2 3]\n",
      "(3,)\n",
      "2\n"
     ]
    }
   ],
   "source": [
    "arr = np.array([1, 2, 3])  # 1D array\n",
    "\n",
    "print(arr)  \n",
    "print(arr.shape)  # size of that dimension\n",
    "print(arr[1])"
   ]
  },
  {
   "cell_type": "code",
   "execution_count": 6,
   "metadata": {
    "collapsed": false
   },
   "outputs": [
    {
     "name": "stdout",
     "output_type": "stream",
     "text": [
      "[[1 2 3]\n",
      " [4 5 6]]\n",
      "(2, 3)\n",
      "1\n"
     ]
    }
   ],
   "source": [
    "mat = np.array([[1,2,3], [4,5,6]]) # 2D array - matrix\n",
    "print mat\n",
    "print(mat.shape)\n",
    "print(mat[0,0])"
   ]
  },
  {
   "cell_type": "code",
   "execution_count": 13,
   "metadata": {
    "collapsed": false
   },
   "outputs": [
    {
     "name": "stdout",
     "output_type": "stream",
     "text": [
      "[[[ 1.  2.  3.  4.]\n",
      "  [ 0.  0.  0.  0.]\n",
      "  [ 0.  0.  0.  0.]]\n",
      "\n",
      " [[ 0.  0.  0.  0.]\n",
      "  [ 0.  0.  0.  0.]\n",
      "  [ 0.  0.  0.  0.]]]\n",
      "(2, 3, 4)\n",
      "3\n"
     ]
    }
   ],
   "source": [
    "i = 2\n",
    "j = 3\n",
    "k = 4\n",
    "arr_3d = np.zeros((i, j, k)) # 3D array\n",
    "\n",
    "arr_3d[0][0][0] = 1\n",
    "arr_3d[0][0][1] = 2\n",
    "arr_3d[0][0][2] = 3\n",
    "arr_3d[0][0][3] = 4\n",
    "\n",
    "print(arr_3d)\n",
    "\n",
    "print(arr_3d.shape)  # gives the size in each dimension.\n",
    "print(len(arr_3d.shape)) # gives the rank / number of dimensions of the N-dim array"
   ]
  },
  {
   "cell_type": "markdown",
   "metadata": {},
   "source": [
    "## Create Arrays"
   ]
  },
  {
   "cell_type": "code",
   "execution_count": 14,
   "metadata": {
    "collapsed": false
   },
   "outputs": [
    {
     "name": "stdout",
     "output_type": "stream",
     "text": [
      "[[ 0.  0.]\n",
      " [ 0.  0.]]\n"
     ]
    }
   ],
   "source": [
    "a1 = np.zeros((2,2)) # 2x2 matrix with zeros\n",
    "print(a1)"
   ]
  },
  {
   "cell_type": "code",
   "execution_count": 15,
   "metadata": {
    "collapsed": false
   },
   "outputs": [
    {
     "name": "stdout",
     "output_type": "stream",
     "text": [
      "[[ 1.]\n",
      " [ 1.]]\n"
     ]
    }
   ],
   "source": [
    "a2 = np.ones((2,1))  # matrix with ones\n",
    "print(a2)"
   ]
  },
  {
   "cell_type": "code",
   "execution_count": 16,
   "metadata": {
    "collapsed": false
   },
   "outputs": [
    {
     "name": "stdout",
     "output_type": "stream",
     "text": [
      "[[ 5.  5.  5.  5.]\n",
      " [ 5.  5.  5.  5.]\n",
      " [ 5.  5.  5.  5.]]\n"
     ]
    },
    {
     "name": "stderr",
     "output_type": "stream",
     "text": [
      "/Users/admin/anaconda/lib/python2.7/site-packages/numpy/core/numeric.py:301: FutureWarning: in the future, full((3, 4), 5) will return an array of dtype('int64')\n",
      "  format(shape, fill_value, array(fill_value).dtype), FutureWarning)\n"
     ]
    }
   ],
   "source": [
    "a3 = np.full((3,4), 5) #constant matrix \n",
    "print(a3)"
   ]
  },
  {
   "cell_type": "code",
   "execution_count": 18,
   "metadata": {
    "collapsed": false
   },
   "outputs": [
    {
     "name": "stdout",
     "output_type": "stream",
     "text": [
      "[[ 1.  0.]\n",
      " [ 0.  1.]]\n"
     ]
    }
   ],
   "source": [
    "a4 = np.eye(2) # identity matrix\n",
    "print(a4)"
   ]
  },
  {
   "cell_type": "markdown",
   "metadata": {},
   "source": [
    "## Array Elementwise Math Operations"
   ]
  },
  {
   "cell_type": "code",
   "execution_count": 22,
   "metadata": {
    "collapsed": false
   },
   "outputs": [
    {
     "name": "stdout",
     "output_type": "stream",
     "text": [
      "<type 'numpy.ndarray'>\n",
      "[[ 1.  2.]\n",
      " [ 3.  4.]]\n",
      "<type 'numpy.ndarray'>\n",
      "[[ 5.  6.]\n",
      " [ 7.  8.]]\n"
     ]
    }
   ],
   "source": [
    "x = np.array([[1,2], [3,4]], dtype=np.float64)\n",
    "y = np.array([[5,6],[7,8]], dtype=np.float64)\n",
    "\n",
    "print(type(x))\n",
    "print(x)\n",
    "print(type(y))\n",
    "print(y)"
   ]
  },
  {
   "cell_type": "code",
   "execution_count": 23,
   "metadata": {
    "collapsed": false
   },
   "outputs": [
    {
     "name": "stdout",
     "output_type": "stream",
     "text": [
      "[[  6.   8.]\n",
      " [ 10.  12.]]\n",
      "[[  6.   8.]\n",
      " [ 10.  12.]]\n"
     ]
    }
   ],
   "source": [
    "print(x+y)\n",
    "print(np.add(x,y))"
   ]
  },
  {
   "cell_type": "code",
   "execution_count": 24,
   "metadata": {
    "collapsed": false
   },
   "outputs": [
    {
     "name": "stdout",
     "output_type": "stream",
     "text": [
      "[[-4. -4.]\n",
      " [-4. -4.]]\n",
      "[[-4. -4.]\n",
      " [-4. -4.]]\n"
     ]
    }
   ],
   "source": [
    "print(x-y)\n",
    "print(np.subtract(x,y))"
   ]
  },
  {
   "cell_type": "code",
   "execution_count": 25,
   "metadata": {
    "collapsed": false
   },
   "outputs": [
    {
     "name": "stdout",
     "output_type": "stream",
     "text": [
      "[[  5.  12.]\n",
      " [ 21.  32.]]\n",
      "[[  5.  12.]\n",
      " [ 21.  32.]]\n"
     ]
    }
   ],
   "source": [
    "print(x*y)\n",
    "print(np.multiply(x,y))"
   ]
  },
  {
   "cell_type": "code",
   "execution_count": 26,
   "metadata": {
    "collapsed": false
   },
   "outputs": [
    {
     "name": "stdout",
     "output_type": "stream",
     "text": [
      "[[ 0.2         0.33333333]\n",
      " [ 0.42857143  0.5       ]]\n",
      "[[ 0.2         0.33333333]\n",
      " [ 0.42857143  0.5       ]]\n"
     ]
    }
   ],
   "source": [
    "print(x/y)\n",
    "print(np.divide(x,y))"
   ]
  },
  {
   "cell_type": "code",
   "execution_count": 27,
   "metadata": {
    "collapsed": false
   },
   "outputs": [
    {
     "name": "stdout",
     "output_type": "stream",
     "text": [
      "[[ 1.          1.41421356]\n",
      " [ 1.73205081  2.        ]]\n"
     ]
    }
   ],
   "source": [
    "print(np.sqrt(x))"
   ]
  },
  {
   "cell_type": "code",
   "execution_count": 30,
   "metadata": {
    "collapsed": false
   },
   "outputs": [
    {
     "name": "stdout",
     "output_type": "stream",
     "text": [
      "[[ 1.  2.]\n",
      " [ 3.  4.]]\n",
      "10.0\n",
      "[ 4.  6.]\n",
      "[ 3.  7.]\n"
     ]
    }
   ],
   "source": [
    "print(x)\n",
    "print(np.sum(x))  # sum of all elements\n",
    "print(np.sum(x, axis=0))  # column wise sum\n",
    "print(np.sum(x, axis=1))  # row wise sum"
   ]
  },
  {
   "cell_type": "code",
   "execution_count": 31,
   "metadata": {
    "collapsed": false
   },
   "outputs": [
    {
     "name": "stdout",
     "output_type": "stream",
     "text": [
      "[[ 1.  2.]\n",
      " [ 3.  4.]]\n",
      "[[ 1.  3.]\n",
      " [ 2.  4.]]\n"
     ]
    }
   ],
   "source": [
    "print(x)\n",
    "print(x.T) # Transpose"
   ]
  },
  {
   "cell_type": "markdown",
   "metadata": {},
   "source": [
    "## Broadcasting\n",
    "\n",
    "It is an optimization process to perform the arithmetic operations faster with N dimensional array.\n",
    "For example, if you want to add vector to a matrix, one way to do is do it iteratively. It takes more time.\n",
    "Instead, **Broadcasting** stacks up the vector to the size of matrix and does matrix summation. Thus, improves the runtime performance.\n"
   ]
  },
  {
   "cell_type": "code",
   "execution_count": 34,
   "metadata": {
    "collapsed": false
   },
   "outputs": [
    {
     "name": "stdout",
     "output_type": "stream",
     "text": [
      "[[ 1  2  3  4]\n",
      " [ 5  6  7  8]\n",
      " [ 9 10 11 12]\n",
      " [13 14 15 16]]\n",
      "[1 0 1 0]\n",
      "[[ 2  2  4  4]\n",
      " [ 6  6  8  8]\n",
      " [10 10 12 12]\n",
      " [14 14 16 16]]\n"
     ]
    }
   ],
   "source": [
    "arr_b = np.array([[1,2,3,4], [5,6,7,8], [9,10,11,12], [13,14,15,16]])\n",
    "print(arr_b)\n",
    "vect = np.array([1,0, 1, 0])\n",
    "print(vect)\n",
    "\n",
    "result = arr_b + vect  ## broadcasting.\n",
    "print(result)"
   ]
  },
  {
   "cell_type": "markdown",
   "metadata": {},
   "source": [
    "## Misc functions"
   ]
  },
  {
   "cell_type": "code",
   "execution_count": 38,
   "metadata": {
    "collapsed": false
   },
   "outputs": [
    {
     "name": "stdout",
     "output_type": "stream",
     "text": [
      "[1 2 3 4]\n",
      "[ 1.  3.  5.  7.]\n",
      "[0 1 2 3 4]\n",
      "[ 0.  1.]\n"
     ]
    }
   ],
   "source": [
    "x = np.arange(1,5)  # range of values from 1 to 5, exlude 5\n",
    "print(x)\n",
    "x2 = np.arange(1.0, 8.0, 2.0) # use step\n",
    "print(x2)\n",
    "x3 = np.arange(5)  # start is optional, step is by default 1\n",
    "print(x3)\n",
    "x4 = np.arange(2.0)\n",
    "print(x4)"
   ]
  },
  {
   "cell_type": "markdown",
   "metadata": {},
   "source": [
    "## Random number generation using Numpy"
   ]
  },
  {
   "cell_type": "code",
   "execution_count": 44,
   "metadata": {
    "collapsed": false
   },
   "outputs": [
    {
     "name": "stdout",
     "output_type": "stream",
     "text": [
      "[[ 0.55092111  0.34497153]\n",
      " [ 0.94088855  0.61080355]\n",
      " [ 0.21494819  0.98226827]]\n",
      "[[-1.05014625 -0.1745795 ]\n",
      " [-0.81198759 -0.82851676]\n",
      " [-1.02064802  0.68235553]]\n",
      "[10 12 14  5 10  7  9 17 19 13]\n"
     ]
    }
   ],
   "source": [
    "y1 = np.random.rand(3,2) # generate 3x2 matrix of random numbers\n",
    "print(y1)\n",
    "\n",
    "y2 = np.random.randn(3,2) #use normal distribution\n",
    "print(y2)\n",
    "\n",
    "y3 = np.random.randint(2,20,10)  # low, high(inclusive) & size. - generate size number of random numbers between low & high\n",
    "print(y3)"
   ]
  },
  {
   "cell_type": "code",
   "execution_count": 5,
   "metadata": {
    "collapsed": false
   },
   "outputs": [
    {
     "name": "stdout",
     "output_type": "stream",
     "text": [
      "[[  1   2   3   4   5   6   7   8   9  10]\n",
      " [ 11  12  13  14  15  16  17  18  19  20]\n",
      " [ 21  22  23  24  25  26  27  28  29  30]\n",
      " [ 31  32  33  34  35  36  37  38  39  40]\n",
      " [ 41  42  43  44  45  46  47  48  49  50]\n",
      " [ 51  52  53  54  55  56  57  58  59  60]\n",
      " [ 61  62  63  64  65  66  67  68  69  70]\n",
      " [ 71  72  73  74  75  76  77  78  79  80]\n",
      " [ 81  82  83  84  85  86  87  88  89  90]\n",
      " [ 91  92  93  94  95  96  97  98  99 100]\n",
      " [101 102 103 104 105 106 107 108 109 110]\n",
      " [111 112 113 114 115 116 117 118 119 120]]\n",
      "Group 1 [ 71  81 111  21  91]\n",
      "Group 2 [ 72 112  22  32  12]\n",
      "Group 3 [ 43  73  13 103  93]\n",
      "Group 4 [114  64  94  74  54]\n",
      "Group 5 [ 85  25 115  95  65]\n",
      "Group 6 [76 26 36 86 66]\n",
      "Group 7 [107   7 117  97  47]\n",
      "Group 8 [ 8 58 18 38 78]\n",
      "Group 9 [39 59 89 99 69]\n",
      "Group 10 [ 70  80  40  10 110]\n"
     ]
    }
   ],
   "source": [
    "import numpy as np\n",
    "\n",
    "np.random.seed(1234)\n",
    "\n",
    "my_mat = np.array(range(1,121)).reshape(12,10)\n",
    "\n",
    "print(my_mat)\n",
    "\n",
    "# do stratfied sampling of 5 elements  in each column\n",
    "# ie., without replacement - do not repeat same number\n",
    "for col in range(my_mat.shape[1]):\n",
    "    print('Group {} {}' .format(col+1, np.random.choice( my_mat[:, col], 5, replace=False)))\n",
    "    \n"
   ]
  },
  {
   "cell_type": "code",
   "execution_count": null,
   "metadata": {
    "collapsed": true
   },
   "outputs": [],
   "source": []
  }
 ],
 "metadata": {
  "anaconda-cloud": {},
  "kernelspec": {
   "display_name": "Python 2",
   "language": "python",
   "name": "python2"
  },
  "language_info": {
   "codemirror_mode": {
    "name": "ipython",
    "version": 2
   },
   "file_extension": ".py",
   "mimetype": "text/x-python",
   "name": "python",
   "nbconvert_exporter": "python",
   "pygments_lexer": "ipython2",
   "version": "2.7.14"
  }
 },
 "nbformat": 4,
 "nbformat_minor": 1
}
