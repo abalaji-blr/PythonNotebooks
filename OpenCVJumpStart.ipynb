{
 "cells": [
  {
   "cell_type": "markdown",
   "metadata": {},
   "source": [
    "## Jump start to Open CV"
   ]
  },
  {
   "cell_type": "markdown",
   "metadata": {},
   "source": [
    "### Outline\n",
    "    1. Background\n",
    "    2. Samples\n",
    "    3. Internal Implementation details"
   ]
  },
  {
   "cell_type": "markdown",
   "metadata": {},
   "source": [
    "### Background"
   ]
  },
  {
   "cell_type": "markdown",
   "metadata": {},
   "source": [
    "The OpenCV is an open source computer vision library : [http://www.opencv.org].\n",
    "\n",
    "The Open CV version 1.0 was implemented in C. \n",
    "Whereas, the Open CV version 2.0 and above is reimplemented using C++.\n",
    "\n",
    "As of now, the latest version is 3.2, which has more features than 2.0. Visit official website for more info.\n"
   ]
  },
  {
   "cell_type": "markdown",
   "metadata": {},
   "source": [
    "#### Installation"
   ]
  },
  {
   "cell_type": "markdown",
   "metadata": {},
   "source": [
    "To install open cv in your computer, follow the below steps:\n",
    " \n",
    " * For Anaconda install: \tconda install -c https://conda.binstar.org/menpo opencv3\n",
    "\n",
    " * (Or), you can download the source from www.opencv.org, build and install.\n",
    "     + Download the source from www.opencv.org\n",
    "     + Have Developer tools: for Mac: xcode.\n",
    "     + Have cmake (cross platform makefile) installed\n",
    "     + unzip the source code\n",
    "     + mkdir build\n",
    "     + cmake \n",
    "     + make \n",
    "     + sudo make install"
   ]
  },
  {
   "cell_type": "markdown",
   "metadata": {},
   "source": [
    "### Samples"
   ]
  },
  {
   "cell_type": "markdown",
   "metadata": {},
   "source": [
    "1. [Read the image from disk](./openCV/sample1.ipynb)\n",
    "\n",
    "   The python bindings  **imread(), imshow(), imwrite()** would help in loading the image file from disk, show and write into disk.\n",
    "   \n",
    "   [Refer to API documentation about the syntax]()"
   ]
  },
  {
   "cell_type": "code",
   "execution_count": null,
   "metadata": {
    "collapsed": true
   },
   "outputs": [],
   "source": []
  },
  {
   "cell_type": "markdown",
   "metadata": {},
   "source": [
    "### Additional Resources / Blogs"
   ]
  },
  {
   "cell_type": "markdown",
   "metadata": {},
   "source": [
    "1. [OpenCV-Python Tutorials](http://docs.opencv.org/3.0-last-rst/doc/py_tutorials/py_tutorials.html)\n",
    "2. [Blog: Learn Open CV | Satya Mallick](http://www.learnopencv.com/) \n",
    "3. [Blog: Learn Open CV | Github location - Satya Mallick](https://github.com/spmallick/learnopencv)"
   ]
  },
  {
   "cell_type": "markdown",
   "metadata": {},
   "source": [
    "### Internal Implementation details"
   ]
  },
  {
   "cell_type": "markdown",
   "metadata": {},
   "source": [
    "1. Namespace\n",
    "2. Core modules: [Mat](./Details_Mat.ipynb)"
   ]
  },
  {
   "cell_type": "code",
   "execution_count": null,
   "metadata": {
    "collapsed": true
   },
   "outputs": [],
   "source": []
  }
 ],
 "metadata": {
  "kernelspec": {
   "display_name": "Python 2",
   "language": "python",
   "name": "python2"
  },
  "language_info": {
   "codemirror_mode": {
    "name": "ipython",
    "version": 2
   },
   "file_extension": ".py",
   "mimetype": "text/x-python",
   "name": "python",
   "nbconvert_exporter": "python",
   "pygments_lexer": "ipython2",
   "version": "2.7.13"
  }
 },
 "nbformat": 4,
 "nbformat_minor": 2
}
