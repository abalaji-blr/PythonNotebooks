{
 "cells": [
  {
   "cell_type": "markdown",
   "metadata": {},
   "source": [
    "## Python Cheat sheet"
   ]
  },
  {
   "cell_type": "markdown",
   "metadata": {},
   "source": [
    "* Language Features\n",
    "  + Open source general purpose language\n",
    "  + Available at www.python.org\n",
    "  + Provides interactive environment (ipython)\n",
    "  + Also web based interface called Juypter Notebook\n",
    "  \n",
    "  "
   ]
  },
  {
   "cell_type": "markdown",
   "metadata": {},
   "source": [
    "### How to run python script?"
   ]
  },
  {
   "cell_type": "markdown",
   "metadata": {},
   "source": [
    "%python script.py\n",
    "\n",
    "or\n",
    "\n",
    "#!/usr/bin/python   # magic line"
   ]
  },
  {
   "cell_type": "markdown",
   "metadata": {},
   "source": [
    "## Important Language Features"
   ]
  },
  {
   "cell_type": "markdown",
   "metadata": {},
   "source": [
    "* **Comment** character is # symbol.\n",
    "\n",
    "* **Names** are *case sensitive* and they can not start with number. They can contain letters, numbers and underscores.\n",
    "  + Bob, bob, _bob, _2_bob\n",
    "\n",
    "* **Whitespace is meaningful**\n",
    "  + Especially indentation and newlines.\n",
    "  + No braces {} for the block of code. Instead use indentation.\n",
    "  + *Often a colon (:) appears to show the begin of the block.*\n",
    "  \n",
    "* For **strings**, use **double qutoes or single quotes.**\n",
    "  + \"abc\"  'xyz'\n",
    "  + Use triple double quotes to multi line strings.\n",
    "    \"\"\"axcv...\"\"\"\n",
    "    \n",
    "* Use **print()** for printing.\n",
    "  + Need to use % for special string formatting.\n",
    "  "
   ]
  },
  {
   "cell_type": "markdown",
   "metadata": {},
   "source": [
    "## To Understand the code"
   ]
  },
  {
   "cell_type": "markdown",
   "metadata": {},
   "source": [
    "* Assignment is =\n",
    "* Comparison is ==\n",
    "* Number operators: + - * / %\n",
    "* String concatenation +\n",
    "* Logical operators: and or not\n",
    "\n",
    "* **Basic data types (immutable)**\n",
    "  + integers, floats, strings\n",
    "    \n",
    "* Some more data types (mutable)\n",
    "  + lists, dictionaries"
   ]
  },
  {
   "cell_type": "markdown",
   "metadata": {},
   "source": [
    "## Sequence Types"
   ]
  },
  {
   "cell_type": "markdown",
   "metadata": {},
   "source": [
    "* Tuple\n",
    "  + **immutable** ordered sequence of items.\n",
    "  + Uses **parenthesis and comma**\n",
    "  + Ex: tup = ( 'abc', \"xyc\", 3, 5)\n",
    "        x = tup[0]\n",
    "\n",
    "* Strings\n",
    "  + **immutable**\n",
    "  + Uses **double or single quotes**\n",
    "  + Ex: st = \"Hello world\"\n",
    "\n",
    "* Lists\n",
    "  + **mutable**\n",
    "  + Uses brackets and comma\n",
    "  + Ex: li = [1, 2, \"abc\"]\n",
    "    "
   ]
  },
  {
   "cell_type": "markdown",
   "metadata": {},
   "source": [
    "## Sequence Types and Array notation"
   ]
  },
  {
   "cell_type": "markdown",
   "metadata": {},
   "source": [
    "* Individual elements of the sequence type can be done by square bracket (\"array\") notation.\n",
    "* **All are 0 based.** Similar to C language.\n",
    "* You can access using **negative indices**.\n",
    "  + The -1 represents the first element from end.\n",
    "  \n",
    "Ex: \n",
    "  tup = ('abc', \"xyz\", 3, 5)\n",
    "  \n",
    "  x = tup[0]  # 'abc'\n",
    "  y = tup[-1] # 5\n",
    "  "
   ]
  },
  {
   "cell_type": "markdown",
   "metadata": {},
   "source": [
    "## Slicing the sequence type"
   ]
  },
  {
   "cell_type": "markdown",
   "metadata": {},
   "source": [
    "* **Slicing or subset for the list / tuple.\n",
    "  Start copying from the start index and stop **before** the end index.**\n",
    "   \n",
    "  z = tup[1:3]  # \"xyz\", 3, 5\n",
    "  r = tup[1:-1] # \"xyz\", 3\n",
    "  \n",
    "  \n",
    "* **Omit first index**\n",
    "  Ex: s = tup[:2] # 'abc', \"xyz\"\n",
    "  \n",
    "  \n",
    "* **Omit second index**\n",
    "  Ex: t = tup[2:] # 3, 5\n",
    "        \n",
    "* **copy the complete sequence**\n",
    "  Ex: new_copy = tup[:]"
   ]
  },
  {
   "cell_type": "markdown",
   "metadata": {},
   "source": [
    "## Dictionaries"
   ]
  },
  {
   "cell_type": "markdown",
   "metadata": {},
   "source": [
    "* Maps the set of keys to set of values.\n",
    "* **Keys are immutable type**\n",
    "* **Values can be any type**\n",
    "* A single dictionary can store values of any types.\n"
   ]
  },
  {
   "cell_type": "code",
   "execution_count": 8,
   "metadata": {
    "collapsed": false
   },
   "outputs": [
    {
     "name": "stdout",
     "output_type": "stream",
     "text": [
      "['p', 'key1', 98]\n",
      "[1234, 'value1', 'test']\n",
      "value1\n",
      "[('p', 1234), ('key1', 'value1'), (98, 'test')]\n",
      "{'p': 1234, 'key1': 'value1'}\n",
      "{}\n",
      "{'newuser': 'bozo'}\n"
     ]
    }
   ],
   "source": [
    "# Example of dictionary\n",
    "\n",
    "dict = {  \"key1\" : \"value1\" ,  \"p\":1234, 98:\"test\"}\n",
    "\n",
    "print(dict.keys())    # all keys\n",
    "print(dict.values())  # all values\n",
    "print(dict[\"key1\"])\n",
    "print(dict.items())  # all key-value pairs\n",
    "\n",
    "del(dict[98]) # remove one element\n",
    "print(dict)\n",
    "\n",
    "dict.clear()\n",
    "print(dict)\n",
    "\n",
    "dict[\"newuser\"] = \"bozo\"\n",
    "print(dict)\n"
   ]
  },
  {
   "cell_type": "markdown",
   "metadata": {},
   "source": [
    "## Control Statements"
   ]
  },
  {
   "cell_type": "code",
   "execution_count": null,
   "metadata": {
    "collapsed": true
   },
   "outputs": [],
   "source": []
  },
  {
   "cell_type": "markdown",
   "metadata": {},
   "source": [
    "## Functions"
   ]
  },
  {
   "cell_type": "markdown",
   "metadata": {},
   "source": [
    "def funcName(arg1, arg2, ..., argN):\n",
    "   statements\n",
    "   return value\n",
    "\n",
    "def times(x,y):\n",
    "    return x*y\n",
    "\n",
    "* def creates a function and assigns it a name.\n",
    "* Arguments are passed by assignment\n",
    "* Arguments and return types are declared."
   ]
  },
  {
   "cell_type": "code",
   "execution_count": null,
   "metadata": {
    "collapsed": true
   },
   "outputs": [],
   "source": []
  }
 ],
 "metadata": {
  "anaconda-cloud": {},
  "kernelspec": {
   "display_name": "Python [conda root]",
   "language": "python",
   "name": "conda-root-py"
  },
  "language_info": {
   "codemirror_mode": {
    "name": "ipython",
    "version": 2
   },
   "file_extension": ".py",
   "mimetype": "text/x-python",
   "name": "python",
   "nbconvert_exporter": "python",
   "pygments_lexer": "ipython2",
   "version": "2.7.12"
  }
 },
 "nbformat": 4,
 "nbformat_minor": 1
}
