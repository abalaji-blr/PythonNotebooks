{
 "cells": [
  {
   "cell_type": "markdown",
   "metadata": {},
   "source": [
    "## Python Cheat sheet\n",
    "\n",
    "* [Intro - Language Features](#intro)\n",
    "* [Comment, input, output, File IO](#basic)\n",
    "* [Operators](#operators)\n",
    "* [Control Statements](#control)\n",
    "* [Datastructures](#ds)\n",
    "    + [Lists](#list)\n",
    "    + [List Comprehension](#list_comp)\n",
    "    + [Tuples](#tuples)\n",
    "    + [Set](#set)\n",
    "    + [Dictionary](#dict)\n",
    "* [Slicing](#slicing)\n",
    "* [Functions](#functions)\n",
    "* [Built in functions](#builtIn)\n",
    "* [Classes](#class)\n"
   ]
  },
  {
   "cell_type": "markdown",
   "metadata": {},
   "source": [
    "<a id='intro'></a>\n",
    "\n",
    "### Language Features\n",
    "  + Open source general purpose language\n",
    "  + Available at www.python.org\n",
    "  + Provides interactive environment (ipython)\n",
    "  + Also web based interface called Juypter Notebook (See Anaconda installation).\n",
    "  + You can IDE called spyder for interactive / debug development\n",
    "  \n",
    "  \n",
    "  "
   ]
  },
  {
   "cell_type": "markdown",
   "metadata": {},
   "source": [
    "#### How to run python script?"
   ]
  },
  {
   "cell_type": "markdown",
   "metadata": {},
   "source": [
    "%python script.py\n",
    "\n",
    "or\n",
    "\n",
    "#!/usr/bin/python   # magic line"
   ]
  },
  {
   "cell_type": "markdown",
   "metadata": {},
   "source": [
    "<a id='basic'> </a>\n",
    "## Commet, Input, Output, File IO"
   ]
  },
  {
   "cell_type": "markdown",
   "metadata": {},
   "source": [
    "* **Single line Comment** character is # symbol.\n"
   ]
  },
  {
   "cell_type": "code",
   "execution_count": 4,
   "metadata": {
    "collapsed": false
   },
   "outputs": [],
   "source": [
    "# this is a comment line\n"
   ]
  },
  {
   "cell_type": "markdown",
   "metadata": {},
   "source": [
    "\n",
    "\n",
    "* **Names** are *case sensitive* and they can not start with number. They can contain letters, numbers and underscores.\n",
    "  + Bob, bob, _bob, _2_bob\n",
    "\n",
    "* **Whitespace is meaningful**\n",
    "  + Especially indentation and newlines.\n",
    "  + No braces {} for the block of code. Instead use indentation.\n",
    "  + *Often a colon (:) appears to show the begin of the block.*\n",
    "  \n",
    "\n",
    "    \n",
    "* Use **print()** for printing.\n",
    "  + Need to use % for special string formatting.\n",
    "  "
   ]
  },
  {
   "cell_type": "markdown",
   "metadata": {},
   "source": [
    "* For **strings**, use **double qutoes or single quotes.**\n",
    "  + \"abc\"  'xyz'\n",
    "  + Use triple double quotes to multi line strings.\n",
    "    \"\"\"axcv...\"\"\""
   ]
  },
  {
   "cell_type": "code",
   "execution_count": 17,
   "metadata": {
    "collapsed": false
   },
   "outputs": [
    {
     "name": "stdout",
     "output_type": "stream",
     "text": [
      "('This is a string', 'This is also a string', ' This is a\\nlong\\nstring...\\n')\n"
     ]
    }
   ],
   "source": [
    "str1 = 'This is a string'\n",
    "str2 = \"This is also a string\"\n",
    "str3 = \"\"\" This is a\n",
    "long\n",
    "string...\n",
    "\"\"\"\n",
    "\n",
    "print( str1, str2, str3)"
   ]
  },
  {
   "cell_type": "markdown",
   "metadata": {},
   "source": [
    "* **Console IO, File IO**\n",
    "    + To fetch input from user : input(). They are always string. Need to typecast to different type as needed.\n",
    "    + To Console output use print() statement.\n",
    "    \n",
    "    "
   ]
  },
  {
   "cell_type": "markdown",
   "metadata": {},
   "source": [
    "[Python I/0 Documentation](https://docs.python.org/2/tutorial/inputoutput.html)"
   ]
  },
  {
   "cell_type": "code",
   "execution_count": 28,
   "metadata": {
    "collapsed": false
   },
   "outputs": [
    {
     "name": "stdout",
     "output_type": "stream",
     "text": [
      "Enter your age:\n",
      "123\n",
      "The age is 123\n"
     ]
    }
   ],
   "source": [
    "print(\"Enter your age:\")\n",
    "age_inp = input()\n",
    "age = int(age_inp)\n",
    "\n",
    "print(\"The age is {}\".format(age))\n",
    "\n",
    "with open(\"file.txt\", \"w\") as f:\n",
    "    f.write(\"This is test string\")"
   ]
  },
  {
   "cell_type": "code",
   "execution_count": 29,
   "metadata": {
    "collapsed": false
   },
   "outputs": [
    {
     "name": "stdout",
     "output_type": "stream",
     "text": [
      "This is test string\n"
     ]
    }
   ],
   "source": [
    "with open(\"file.txt\", \"r\") as f:\n",
    "    text = f.read()\n",
    "print(text)"
   ]
  },
  {
   "cell_type": "markdown",
   "metadata": {},
   "source": [
    "<a id=operators> </a>\n",
    "## Opertors"
   ]
  },
  {
   "cell_type": "markdown",
   "metadata": {},
   "source": [
    "* Assignment is =\n",
    "* Comparison is ==\n",
    "* Number operators: + - * / %\n",
    "* String concatenation +\n",
    "* Logical operators: and or not\n",
    "\n",
    "* **Basic data types (immutable)**\n",
    "  + integers, floats, strings\n",
    "    \n",
    "* Some more data types (mutable)\n",
    "  + lists, dictionaries"
   ]
  },
  {
   "cell_type": "markdown",
   "metadata": {},
   "source": [
    "<a id='control'> </a>\n",
    "## Control Statements"
   ]
  },
  {
   "cell_type": "code",
   "execution_count": 5,
   "metadata": {
    "collapsed": false
   },
   "outputs": [
    {
     "name": "stdout",
     "output_type": "stream",
     "text": [
      "this or that\n"
     ]
    }
   ],
   "source": [
    "if 3 > 4:\n",
    "    print('this')\n",
    "elif 4 > 5:\n",
    "    print('that')\n",
    "else:\n",
    "    print(\"this or that\")"
   ]
  },
  {
   "cell_type": "code",
   "execution_count": 32,
   "metadata": {
    "collapsed": false
   },
   "outputs": [
    {
     "name": "stdout",
     "output_type": "stream",
     "text": [
      "Enter your age:\n",
      "1123\n",
      "Adult\n"
     ]
    }
   ],
   "source": [
    "# If elif statement\n",
    "print(\"Enter your age:\")\n",
    "age_inp = input()\n",
    "age = int(age_inp)\n",
    "\n",
    "if age <8:\n",
    "    print(\"kid\")\n",
    "elif age < 19:\n",
    "    print(\"Teenager\")\n",
    "else:\n",
    "    print(\"Adult\")\n",
    "    "
   ]
  },
  {
   "cell_type": "code",
   "execution_count": 1,
   "metadata": {
    "collapsed": false
   },
   "outputs": [
    {
     "name": "stdout",
     "output_type": "stream",
     "text": [
      "1\n",
      "3\n",
      "5\n",
      "7\n",
      "9\n"
     ]
    }
   ],
   "source": [
    "for num in [1, 3, 5, 7, 9]:\n",
    "    print(num)"
   ]
  },
  {
   "cell_type": "code",
   "execution_count": 33,
   "metadata": {
    "collapsed": false
   },
   "outputs": [
    {
     "name": "stdout",
     "output_type": "stream",
     "text": [
      "1\n",
      "2\n",
      "3\n",
      "4\n",
      "5\n",
      "6\n",
      "7\n",
      "8\n",
      "9\n"
     ]
    }
   ],
   "source": [
    "# for statement\n",
    "\n",
    "# note that in range(), the second arg is exclusive.\n",
    "for num in range(1,10):\n",
    "    print(num)"
   ]
  },
  {
   "cell_type": "code",
   "execution_count": 4,
   "metadata": {
    "collapsed": false
   },
   "outputs": [
    {
     "name": "stdout",
     "output_type": "stream",
     "text": [
      "1\n",
      "2\n",
      "4\n"
     ]
    }
   ],
   "source": [
    "for i in range(1,5):\n",
    "    if i == 3:\n",
    "        continue\n",
    "    print(i)"
   ]
  },
  {
   "cell_type": "code",
   "execution_count": 5,
   "metadata": {
    "collapsed": false
   },
   "outputs": [
    {
     "name": "stdout",
     "output_type": "stream",
     "text": [
      "0\n",
      "1\n",
      "2\n",
      "Done!\n"
     ]
    }
   ],
   "source": [
    "# while statement\n",
    "\n",
    "cnt = 0\n",
    "\n",
    "while (cnt < 5):\n",
    "    if cnt == 3:\n",
    "        #skip \n",
    "        break\n",
    "    print(cnt)\n",
    "    cnt = cnt + 1\n",
    "    \n",
    "print(\"Done!\")"
   ]
  },
  {
   "cell_type": "markdown",
   "metadata": {},
   "source": [
    "<a id='ds'></a>\n",
    "## Data Structures"
   ]
  },
  {
   "cell_type": "markdown",
   "metadata": {},
   "source": [
    "<a id='list'> </a>\n",
    "## List\n",
    "\n",
    "  + **mutable**\n",
    "  + Uses brackets and comma\n",
    "  + Ex: li = [1, 2, \"abc\"]"
   ]
  },
  {
   "cell_type": "code",
   "execution_count": 16,
   "metadata": {
    "collapsed": false
   },
   "outputs": [
    {
     "name": "stdout",
     "output_type": "stream",
     "text": [
      "1\n",
      "[1, 2, 3, 7]\n",
      "[1, 2, 10, 3, 7]\n",
      "Pop and delete\n",
      "[1, 2, 10, 3]\n",
      "[1, 10, 3]\n",
      "List operations\n",
      "[1, 10, 3, 4, 5, 6]\n",
      "[1, 10, 3, 1, 10, 3, 1, 10, 3]\n",
      "[1, 10, 3, 1, 10, 3, 1, 10, 3]\n",
      "True\n",
      "(4, 6)\n",
      "3\n"
     ]
    }
   ],
   "source": [
    "a = [1, 2, 3]\n",
    "b = [4, 5, 6]\n",
    "\n",
    "print (a[0])\n",
    "a.append(7)  # add at the end\n",
    "print(a)\n",
    "a.insert(2,10) # index and value to add the element\n",
    "print(a)\n",
    "\n",
    "print(\"Pop and delete\")\n",
    "\n",
    "a.pop()\n",
    "print(a)\n",
    "\n",
    "del a[1]\n",
    "print(a)\n",
    "\n",
    "print(\"List operations\")\n",
    "## list operatios\n",
    "print( a + b ) # Concatentation\n",
    "print( a * 3 ) # Repetition\n",
    "print( a * 3 ) # Repetition\n",
    "print( 3 in a ) # Membership\n",
    "print( min(b), max(b) ) # Min, Max\n",
    "print( len(a) ) # Length"
   ]
  },
  {
   "cell_type": "markdown",
   "metadata": {},
   "source": [
    "<a id='list_comp'></a>\n",
    "### List Comprehension"
   ]
  },
  {
   "cell_type": "code",
   "execution_count": 22,
   "metadata": {
    "collapsed": false
   },
   "outputs": [
    {
     "name": "stdout",
     "output_type": "stream",
     "text": [
      "[0, 1, 2, 3, 4, 5, 6, 7, 8, 9]\n",
      "[0, 1, 2, 3, 4]\n",
      "[5, 6, 7, 8, 9]\n",
      "[0, 1, 4, 9, 16, 25, 36, 49, 64, 81]\n"
     ]
    }
   ],
   "source": [
    "# generate list\n",
    "my_list = list(range(10))\n",
    "print(my_list)\n",
    "\n",
    "list2 = [num for num in my_list if num < 5]\n",
    "print(list2)\n",
    "\n",
    "list3 = [num for num in my_list if num not in list2]\n",
    "print(list3)\n",
    "\n",
    "# list generators\n",
    "sqr_list = [ num ** 2 for num in my_list]\n",
    "print(sqr_list)"
   ]
  },
  {
   "cell_type": "markdown",
   "metadata": {},
   "source": [
    "<a id='tuples'> </a>\n",
    "### Tuples\n",
    "\n",
    "  + **immutable** ordered sequence of items.\n",
    "  + Uses **parenthesis and comma**\n",
    "  + Ex: tup = ( 'abc', \"xyc\", 3, 5)\n",
    "        x = tup[0]\n"
   ]
  },
  {
   "cell_type": "code",
   "execution_count": 23,
   "metadata": {
    "collapsed": false
   },
   "outputs": [
    {
     "name": "stdout",
     "output_type": "stream",
     "text": [
      "(1, 2, 3, 4, 5, 6)\n",
      "(1, 2, 3, 1, 2, 3, 1, 2, 3)\n",
      "True\n",
      "3\n",
      "(4, 6)\n"
     ]
    }
   ],
   "source": [
    "a = (1, 2, 3)\n",
    "b = (4, 5, 6)\n",
    "\n",
    "print( a + b ) # Concatentation\n",
    "print( a * 3 ) # Repetition\n",
    "print( 3 in a ) # Membership\n",
    "print( len(a) ) # Length\n",
    "print( min(b), max(b) ) # Min, Max"
   ]
  },
  {
   "cell_type": "markdown",
   "metadata": {},
   "source": [
    "<a id='set'> </a>\n",
    "### Set\n",
    "\n",
    " * **Immutable**\n",
    " * **only unique elements can be present (ie, no duplicates allowed)**"
   ]
  },
  {
   "cell_type": "code",
   "execution_count": 24,
   "metadata": {
    "collapsed": false
   },
   "outputs": [
    {
     "name": "stdout",
     "output_type": "stream",
     "text": [
      "set([1, 2, 3, 5, 8, 13])\n"
     ]
    }
   ],
   "source": [
    "# Create a list\n",
    "fib_list = [ 1, 1, 2, 3, 5, 8, 13 ]\n",
    "\n",
    "# Convert it to a set\n",
    "fib_set = set(fib_list)\n",
    "\n",
    "print( fib_set )"
   ]
  },
  {
   "cell_type": "markdown",
   "metadata": {},
   "source": [
    "* Following operations can be performed on a set\n",
    "  + Union (|)\n",
    "  + Intersection (&)\n",
    "  + Difference (-)"
   ]
  },
  {
   "cell_type": "markdown",
   "metadata": {},
   "source": [
    "<a id='dict'> </a>\n",
    "## Dictionaries\n",
    "* Maps the set of keys to set of values.\n",
    "* **Keys are immutable type**\n",
    "* **Values can be any type**\n",
    "* A single dictionary can store values of any types.\n"
   ]
  },
  {
   "cell_type": "code",
   "execution_count": 25,
   "metadata": {
    "collapsed": false
   },
   "outputs": [
    {
     "name": "stdout",
     "output_type": "stream",
     "text": [
      "['p', 'key1', 98]\n",
      "[1234, 'value1', 'test']\n",
      "value1\n",
      "[('p', 1234), ('key1', 'value1'), (98, 'test')]\n",
      "{'p': 1234, 'key1': 'value1'}\n",
      "{}\n",
      "{'newuser': 'bozo'}\n"
     ]
    }
   ],
   "source": [
    "# Example of dictionary\n",
    "\n",
    "dict = {  \"key1\" : \"value1\" ,  \"p\":1234, 98:\"test\"}\n",
    "\n",
    "print(dict.keys())    # all keys\n",
    "print(dict.values())  # all values\n",
    "print(dict[\"key1\"])\n",
    "print(dict.items())  # all key-value pairs\n",
    "\n",
    "del(dict[98]) # remove one element\n",
    "print(dict)\n",
    "\n",
    "dict.clear()\n",
    "print(dict)\n",
    "\n",
    "dict[\"newuser\"] = \"bozo\"\n",
    "print(dict)\n"
   ]
  },
  {
   "cell_type": "markdown",
   "metadata": {},
   "source": [
    "<a id='slicing'></a>\n",
    "## Sequence Types and Array notation"
   ]
  },
  {
   "cell_type": "markdown",
   "metadata": {},
   "source": [
    "* Individual elements of the sequence type can be done by square bracket (\"array\") notation.\n",
    "* **All are 0 based.** Similar to C language.\n",
    "* You can access using **negative indices**.\n",
    "  + The -1 represents the first element from end.\n",
    "  \n",
    "Ex: \n",
    "  tup = ('abc', \"xyz\", 3, 5)\n",
    "  \n",
    "  x = tup[0]  # 'abc'\n",
    "  y = tup[-1] # 5\n",
    "  "
   ]
  },
  {
   "cell_type": "markdown",
   "metadata": {},
   "source": [
    "## Slicing the sequence type"
   ]
  },
  {
   "cell_type": "markdown",
   "metadata": {},
   "source": [
    "* **Slicing or subset for the list / tuple.\n",
    "  Start copying from the start index and stop **before** the end index.**\n",
    "   \n",
    "  z = tup[1:3]  # \"xyz\", 3, 5\n",
    "  r = tup[1:-1] # \"xyz\", 3\n",
    "  \n",
    "  \n",
    "* **Omit first index**\n",
    "  Ex: s = tup[:2] # 'abc', \"xyz\"\n",
    "  \n",
    "  \n",
    "* **Omit second index**\n",
    "  Ex: t = tup[2:] # 3, 5\n",
    "        \n",
    "* **copy the complete sequence**\n",
    "  Ex: new_copy = tup[:]"
   ]
  },
  {
   "cell_type": "markdown",
   "metadata": {},
   "source": [
    "<a id='function'></a>\n",
    "## Functions"
   ]
  },
  {
   "cell_type": "markdown",
   "metadata": {},
   "source": [
    "def funcName(arg1, arg2, ..., argN):\n",
    "   statements\n",
    "   return value\n",
    "\n",
    "def times(x,y):\n",
    "    return x*y\n",
    "\n",
    "* def creates a function and assigns it a name.\n",
    "* Arguments are passed by assignment\n",
    "* Arguments and return types are declared."
   ]
  },
  {
   "cell_type": "code",
   "execution_count": 26,
   "metadata": {
    "collapsed": false
   },
   "outputs": [
    {
     "name": "stdout",
     "output_type": "stream",
     "text": [
      "Square of 10 is 100\n"
     ]
    }
   ],
   "source": [
    "def squared(x):\n",
    "    return x*x\n",
    "\n",
    "a= 10\n",
    "b = squared(a)\n",
    "print(\"Square of {} is {}\".format(a, b))"
   ]
  },
  {
   "cell_type": "markdown",
   "metadata": {},
   "source": [
    "<a id='builtIn'></a>\n",
    "## Built In Functions"
   ]
  },
  {
   "cell_type": "markdown",
   "metadata": {},
   "source": [
    "**range** is a bultin function to generate sequence of integers"
   ]
  },
  {
   "cell_type": "code",
   "execution_count": 2,
   "metadata": {
    "collapsed": false
   },
   "outputs": [
    {
     "name": "stdout",
     "output_type": "stream",
     "text": [
      "[0, 1, 2, 3, 4]\n"
     ]
    }
   ],
   "source": [
    "print(range(5))"
   ]
  },
  {
   "cell_type": "markdown",
   "metadata": {
    "collapsed": true
   },
   "source": [
    "<a id='classes'></a>\n",
    "## Classes"
   ]
  },
  {
   "cell_type": "markdown",
   "metadata": {},
   "source": [
    "Python do provide Object Oriented Programming."
   ]
  },
  {
   "cell_type": "code",
   "execution_count": 30,
   "metadata": {
    "collapsed": false
   },
   "outputs": [
    {
     "name": "stdout",
     "output_type": "stream",
     "text": [
      "5\n"
     ]
    }
   ],
   "source": [
    "class MyClass:\n",
    "    X = 5\n",
    " \n",
    "\n",
    "inst = MyClass()\n",
    "\n",
    "print(inst.X)"
   ]
  },
  {
   "cell_type": "markdown",
   "metadata": {},
   "source": [
    "All clasess have, default constructor : __init__(). You can override them as well.\n"
   ]
  },
  {
   "cell_type": "code",
   "execution_count": 34,
   "metadata": {
    "collapsed": false
   },
   "outputs": [
    {
     "name": "stdout",
     "output_type": "stream",
     "text": [
      "('Name: ', 'John')\n",
      "('Age: ', 34)\n",
      "\n"
     ]
    }
   ],
   "source": [
    "class Person:\n",
    "    def __init__(self, name, age):\n",
    "        self.name = name\n",
    "        self.age  = age\n",
    "        \n",
    "    def displayInfo(self):\n",
    "        print(\"Name: \", self.name)\n",
    "        print(\"Age: \", self.age)\n",
    "        print(\"\")\n",
    "\n",
    "\n",
    "p1 = Person('John', 34)\n",
    "p1.displayInfo()"
   ]
  },
  {
   "cell_type": "code",
   "execution_count": null,
   "metadata": {
    "collapsed": true
   },
   "outputs": [],
   "source": []
  }
 ],
 "metadata": {
  "anaconda-cloud": {},
  "kernelspec": {
   "display_name": "Python 2",
   "language": "python",
   "name": "python2"
  },
  "language_info": {
   "codemirror_mode": {
    "name": "ipython",
    "version": 2
   },
   "file_extension": ".py",
   "mimetype": "text/x-python",
   "name": "python",
   "nbconvert_exporter": "python",
   "pygments_lexer": "ipython2",
   "version": "2.7.14"
  }
 },
 "nbformat": 4,
 "nbformat_minor": 1
}
