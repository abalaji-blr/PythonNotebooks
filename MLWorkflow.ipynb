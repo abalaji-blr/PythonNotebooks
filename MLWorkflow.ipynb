{
 "cells": [
  {
   "cell_type": "markdown",
   "metadata": {},
   "source": [
    "## Machine Learning Workflow\n"
   ]
  },
  {
   "cell_type": "markdown",
   "metadata": {},
   "source": [
    "## Exploratory Analysis\n",
    "\n",
    "* **Idea is to get to know the data**\n",
    "\n",
    "* **Basic Information**\n",
    "   + df = pd.read_csv()\n",
    "   + df.head()\n",
    "   + df.shape\n",
    "   + df.dtypes\n",
    "   + df.dtypes == 'object' # for categorical fields\n",
    "\n",
    "* **Numeric Distributions**\n",
    "    + df.hist()\n",
    "    + plt.show()\n",
    "    + df.describe()\n",
    "\n",
    "* **Categorical Distributions**\n",
    "    + df.describe(include=['object'])\n",
    "    + use barchart: **sns.countplot(y='field', data=df)**\n",
    "\n",
    "* **Segmentations**\n",
    "    + Study the relationship between the categorical and numeric features (including target variable)\n",
    "    + Use box plot: **sns.boxplot(y='field1', x='field2', data=df)**\n",
    "    + Groupby: Group by the categorical feature and find out the mean, median, max etc.\n",
    "        + **df.groupby('cat-feature').mean()**\n",
    "* **Correlation**\n",
    "    + df.corr()\n",
    "    + Use heatmap: **sns.heatmap(df.corr())**\n",
    "    + "
   ]
  },
  {
   "cell_type": "markdown",
   "metadata": {},
   "source": [
    "## Data Cleaning\n",
    "\n",
    "* Remove Unwanted Obervations\n",
    "     + Remove duplicates: **df.drop_duplicates()**\n",
    "      + Any irrelevant data - remove them.\n",
    "\n",
    "* Structural Errors\n",
    "     + For binary values, you values as NaN (not a number)\n",
    "        + **df.field.unique()**\n",
    "        + use **df.field.fillna(0)**\n",
    "      + Typos / Capitalisation Errors.\n",
    "       + **df.field.replace('old-value', 'new-value', inplace=True)**\n",
    "        \n",
    "\n",
    "* How to deal with **outliers**?\n",
    "    + Examine the outlier, you need a **good reason** to remove them.\n",
    "      + Suspicous measurement that unlikely to be a real data.\n",
    "      + Sometimes, the outlier belong to different population.\n",
    "      + Use boxplot() to quickly check the outlier\n",
    "      + Use violinplot(), that provides the probability distribution as well.\n",
    "\n",
    "* Missing data\n",
    "     + Missing Categorical Data\n",
    "      + Dropping the obeservation due to missing value is not a good idea.\n",
    "      + Imputing them is also not adviceable.\n",
    "        + Instead, label them as 'Missing'.\n",
    "        + Identify the missing ones: **df.select_dtypes(incldue=['object']).isnull().sum()**\n",
    "        + Fill it: **df.filedname.fillna('Missing')\n",
    "        \n",
    "      + Missing Numerical Data\n",
    "        + Identify the missing ones: **df.select_dtypes(exclude=['object']).isnull().sum()**\n",
    "    \n",
    "  "
   ]
  },
  {
   "cell_type": "markdown",
   "metadata": {},
   "source": [
    "## Feature Engineering\n",
    "\n",
    "* Domain Knowledge\n",
    "    + Use multiple fields (column names) and create some kind of indicator feature.\n",
    "    \n",
    "* Interaction Features\n",
    "    + Create new feature with help of operations between two or three features.\n",
    "    + Possible operations / interactions are: **product, sum, differences** etc.\n",
    "    \n",
    "* Sparse Classes\n",
    "    + Data with very few observations.\n",
    "    + How to identify? Use barchart / sns.countplot().\n",
    "    + You can combine / roll them to the other existing class.\n",
    "    \n",
    "* Dummy Variables\n",
    "    + The Sci Kit Learn can't handle the different text values for the different categorical features.\n",
    "    + Need to encode them as boolean type. It is called dummy variable creation.\n",
    "    + Use **pd.get_dummies(df, columns=['category1', 'category2']))**\n",
    "    \n",
    "* Remove Unused features\n",
    "    + Remove unused column like: ID \n",
    "    + Remove redundant features\n",
    "    + Use df.drop(['unused-feat1', 'unused-feat2'], axis=1)\n",
    "    "
   ]
  },
  {
   "cell_type": "markdown",
   "metadata": {},
   "source": [
    "## Algorithms"
   ]
  },
  {
   "cell_type": "markdown",
   "metadata": {},
   "source": [
    "## Model Training"
   ]
  },
  {
   "cell_type": "code",
   "execution_count": null,
   "metadata": {
    "collapsed": true
   },
   "outputs": [],
   "source": []
  }
 ],
 "metadata": {
  "anaconda-cloud": {},
  "kernelspec": {
   "display_name": "Python [conda root]",
   "language": "python",
   "name": "conda-root-py"
  },
  "language_info": {
   "codemirror_mode": {
    "name": "ipython",
    "version": 2
   },
   "file_extension": ".py",
   "mimetype": "text/x-python",
   "name": "python",
   "nbconvert_exporter": "python",
   "pygments_lexer": "ipython2",
   "version": "2.7.12"
  }
 },
 "nbformat": 4,
 "nbformat_minor": 1
}
