{
 "cells": [
  {
   "cell_type": "code",
   "execution_count": 26,
   "metadata": {
    "collapsed": true
   },
   "outputs": [],
   "source": [
    "# import the modules\n",
    "from theano import *\n",
    "import theano.tensor as T\n",
    "import numpy as np\n",
    "import matplotlib.pyplot as plt"
   ]
  },
  {
   "cell_type": "code",
   "execution_count": 3,
   "metadata": {
    "collapsed": false
   },
   "outputs": [
    {
     "name": "stdout",
     "output_type": "stream",
     "text": [
      "welcome to NN using Theano\n"
     ]
    }
   ],
   "source": [
    "print(\"welcome to NN using Theano\")"
   ]
  },
  {
   "cell_type": "code",
   "execution_count": 4,
   "metadata": {
    "collapsed": true
   },
   "outputs": [],
   "source": [
    "# use Theano primitive data type\n",
    "# and define the function\n",
    "x = T.dscalar('x')\n",
    "y = T.dscalar('y')\n",
    "z = x + y\n",
    "\n",
    "# define the function\n",
    "# inputs[x,y]\n",
    "# output z\n",
    "f = function([x,y], z)"
   ]
  },
  {
   "cell_type": "code",
   "execution_count": 5,
   "metadata": {
    "collapsed": false
   },
   "outputs": [
    {
     "data": {
      "text/plain": [
       "array(5.5)"
      ]
     },
     "execution_count": 5,
     "metadata": {},
     "output_type": "execute_result"
    }
   ],
   "source": [
    "# invoke the function\n",
    "f(2.0, 3.5)"
   ]
  },
  {
   "cell_type": "code",
   "execution_count": 6,
   "metadata": {
    "collapsed": false
   },
   "outputs": [
    {
     "data": {
      "text/plain": [
       "theano.tensor.var.TensorVariable"
      ]
     },
     "execution_count": 6,
     "metadata": {},
     "output_type": "execute_result"
    }
   ],
   "source": [
    "type(x)"
   ]
  },
  {
   "cell_type": "code",
   "execution_count": 7,
   "metadata": {
    "collapsed": false
   },
   "outputs": [
    {
     "name": "stdout",
     "output_type": "stream",
     "text": [
      "(x + y)\n"
     ]
    }
   ],
   "source": [
    "#pretty print the function z\n",
    "print(pp(z))"
   ]
  },
  {
   "cell_type": "code",
   "execution_count": 8,
   "metadata": {
    "collapsed": true
   },
   "outputs": [],
   "source": [
    "## Add two matrics\n",
    "a = T.dmatrix('x')\n",
    "b = T.dmatrix('y')\n",
    "c = a + b\n",
    "\n",
    "m_add = function([a,b], c)"
   ]
  },
  {
   "cell_type": "code",
   "execution_count": 10,
   "metadata": {
    "collapsed": false
   },
   "outputs": [
    {
     "data": {
      "text/plain": [
       "array([[ 11.,  13.],\n",
       "       [ 16.,  18.]])"
      ]
     },
     "execution_count": 10,
     "metadata": {},
     "output_type": "execute_result"
    }
   ],
   "source": [
    "#invoke m_add\n",
    "m_add([[1, 2], [3,4]], [[10, 11],[13,14]])"
   ]
  },
  {
   "cell_type": "code",
   "execution_count": 12,
   "metadata": {
    "collapsed": false
   },
   "outputs": [],
   "source": [
    "# example for vector\n",
    "x = T.vector()\n",
    "y = T.vector()\n",
    "out = x ** 2 + y ** 2 + 2 * x * y\n",
    "\n",
    "vect_modify = function([x,y], out)"
   ]
  },
  {
   "cell_type": "code",
   "execution_count": 14,
   "metadata": {
    "collapsed": false
   },
   "outputs": [
    {
     "data": {
      "text/plain": [
       "array([ 16.,  36.])"
      ]
     },
     "execution_count": 14,
     "metadata": {},
     "output_type": "execute_result"
    }
   ],
   "source": [
    "vect_modify([1,2], [3,4])"
   ]
  },
  {
   "cell_type": "code",
   "execution_count": 34,
   "metadata": {
    "collapsed": true
   },
   "outputs": [],
   "source": [
    "# Let's try sigmoid\n",
    "# input vector\n",
    "v = T.vector()\n",
    "out = 1 / ( 1 + T.exp(-v))  # sigmoid\n",
    "\n",
    "sigmoid = function([v], out)"
   ]
  },
  {
   "cell_type": "code",
   "execution_count": 41,
   "metadata": {
    "collapsed": false,
    "scrolled": true
   },
   "outputs": [
    {
     "data": {
      "image/png": "[encoded data removed]",
      "text/plain": [
       "<matplotlib.figure.Figure at 0x110aa7450>"
      ]
     },
     "metadata": {},
     "output_type": "display_data"
    }
   ],
   "source": [
    "# generate seq of numbers from -10 to 10\n",
    "in_vect = np.arange(-10, 10, 0.5)\n",
    "#print(in_vect)\n",
    "type(in_vect)\n",
    "sig_vect = sigmoid(in_vect)\n",
    "#print(sig_vect)\n",
    "# do scatter plot\n",
    "plt.plot(in_vect, np.array(sig_vect))\n",
    "\n",
    "# display the plot\n",
    "plt.show()"
   ]
  },
  {
   "cell_type": "code",
   "execution_count": 37,
   "metadata": {
    "collapsed": false
   },
   "outputs": [
    {
     "name": "stdout",
     "output_type": "stream",
     "text": [
      "[  4.53978687e-05   7.48462275e-05   1.23394576e-04   2.03426978e-04\n",
      "   3.35350130e-04   5.52778637e-04   9.11051194e-04   1.50118226e-03\n",
      "   2.47262316e-03   4.07013772e-03   6.69285092e-03   1.09869426e-02\n",
      "   1.79862100e-02   2.93122308e-02   4.74258732e-02   7.58581800e-02\n",
      "   1.19202922e-01   1.82425524e-01   2.68941421e-01   3.77540669e-01\n",
      "   5.00000000e-01   6.22459331e-01   7.31058579e-01   8.17574476e-01\n",
      "   8.80797078e-01   9.24141820e-01   9.52574127e-01   9.70687769e-01\n",
      "   9.82013790e-01   9.89013057e-01   9.93307149e-01   9.95929862e-01\n",
      "   9.97527377e-01   9.98498818e-01   9.99088949e-01   9.99447221e-01\n",
      "   9.99664650e-01   9.99796573e-01   9.99876605e-01   9.99925154e-01]\n"
     ]
    }
   ],
   "source": [
    "type(in_vect)\n",
    "sig_vect = sigmoid(in_vect)\n",
    "print(sig_vect)"
   ]
  },
  {
   "cell_type": "code",
   "execution_count": 43,
   "metadata": {
    "collapsed": false
   },
   "outputs": [],
   "source": [
    "## function can return more than value\n",
    "# compute matrix diff, abs diff and diff squared\n",
    "\n",
    "#define two matrices\n",
    "a, b = T.dmatrices('a', 'b')\n",
    "diff = a - b\n",
    "abs_diff = abs(a-b)\n",
    "# element wise squared\n",
    "diff_squared = diff ** 2\n",
    "[]\n",
    "mat = function([a,b], [diff, abs_diff, diff_squared])"
   ]
  },
  {
   "cell_type": "code",
   "execution_count": 48,
   "metadata": {
    "collapsed": false
   },
   "outputs": [
    {
     "name": "stdout",
     "output_type": "stream",
     "text": [
      "[[-9. -9.]\n",
      " [-9. -9.]]\n",
      "[[ 9.  9.]\n",
      " [ 9.  9.]]\n",
      "[[ 81.  81.]\n",
      " [ 81.  81.]]\n"
     ]
    }
   ],
   "source": [
    "mat1 = np.matrix([[1,2], [3,4]])\n",
    "mat2 = np.matrix([[10,11], [12,13]])\n",
    "\n",
    "df, abs_df, df_square = mat(mat1,mat2)\n",
    "print(df)\n",
    "print(abs_df)\n",
    "print(df_square)"
   ]
  },
  {
   "cell_type": "code",
   "execution_count": 49,
   "metadata": {
    "collapsed": true
   },
   "outputs": [],
   "source": [
    "## Computing Derivatives using Theano\n",
    "## T.grad(y,x)  provides dy/dx\n",
    "\n",
    "x = T.dscalar('x')\n",
    "y = x**2  # y = x squaured\n",
    "gy = T.grad(y,x)  # dy / dx = 2.x\n",
    "derivative = function([x], gy)"
   ]
  },
  {
   "cell_type": "code",
   "execution_count": 50,
   "metadata": {
    "collapsed": false
   },
   "outputs": [
    {
     "data": {
      "text/plain": [
       "array(8.0)"
      ]
     },
     "execution_count": 50,
     "metadata": {},
     "output_type": "execute_result"
    }
   ],
   "source": [
    "# find derivative of x squared is 2x.\n",
    "derivative(4) "
   ]
  },
  {
   "cell_type": "code",
   "execution_count": 63,
   "metadata": {
    "collapsed": false
   },
   "outputs": [],
   "source": [
    "## we can calculate the first order derivatives of a matrix (Jacobian).\n",
    "## Also, we can calculate the second order derivatives (Hessian matrix)\n",
    "\n",
    "## L(left) & R(ight) operators can be used to multiply the vector or scalar\n",
    "## with the matrices . Ex; vect * dy /dx matrix or dy/dx matrix * vect"
   ]
  },
  {
   "cell_type": "code",
   "execution_count": null,
   "metadata": {
    "collapsed": true
   },
   "outputs": [],
   "source": []
  },
  {
   "cell_type": "code",
   "execution_count": 74,
   "metadata": {
    "collapsed": false
   },
   "outputs": [],
   "source": [
    "\n",
    "from theano.ifelse import ifelse\n",
    "\n",
    "## Modeling single nueron\n",
    "## Logical AND functionality\n",
    "## Inputs: 2 binary inputs + bias\n",
    "## output: AND functionality\n",
    "\n",
    "#define the variables\n",
    "x = T.vector('x')  # inputs\n",
    "w = T.vector('w')  # weights\n",
    "b = T.scalar('b')  # bias\n",
    "\n",
    "#compute out = x*w +b\n",
    "z = T.dot(x,w)+b\n",
    "\n",
    "#convert them interms of 0 & 1\n",
    "out = ifelse(T.lt(z,0), 0, 1)\n",
    "\n",
    "#define the neuron\n",
    "neuron = function([x,w,b], [z, out])"
   ]
  },
  {
   "cell_type": "code",
   "execution_count": 78,
   "metadata": {
    "collapsed": false
   },
   "outputs": [
    {
     "name": "stdout",
     "output_type": "stream",
     "text": [
      "The output for x1=0 AND x2=0 is 0 and raw_output -1.500000\n",
      "The output for x1=0 AND x2=1 is 0 and raw_output -0.500000\n",
      "The output for x1=1 AND x2=0 is 0 and raw_output -0.500000\n",
      "The output for x1=1 AND x2=1 is 1 and raw_output 0.500000\n"
     ]
    }
   ],
   "source": [
    "## test the neuron\n",
    "x = np.array([[0,0], [0,1], [1,0], [1,1]])\n",
    "w = [1,1]  #initial weights\n",
    "b = -1.5 #bias\n",
    "\n",
    "#iterate thru each input\n",
    "for i in range(len(x)):\n",
    "   t = x[i]\n",
    "   #print(t)\n",
    "   raw_out, output = neuron(t,w,b)\n",
    "   print 'The output for x1=%d AND x2=%d is %d and raw_output %f' %(t[0], t[1], output, raw_out)"
   ]
  },
  {
   "cell_type": "code",
   "execution_count": null,
   "metadata": {
    "collapsed": true
   },
   "outputs": [],
   "source": []
  }
 ],
 "metadata": {
  "kernelspec": {
   "display_name": "Python [conda root]",
   "language": "python",
   "name": "conda-root-py"
  },
  "language_info": {
   "codemirror_mode": {
    "name": "ipython",
    "version": 2
   },
   "file_extension": ".py",
   "mimetype": "text/x-python",
   "name": "python",
   "nbconvert_exporter": "python",
   "pygments_lexer": "ipython2",
   "version": "2.7.12"
  }
 },
 "nbformat": 4,
 "nbformat_minor": 1
}
