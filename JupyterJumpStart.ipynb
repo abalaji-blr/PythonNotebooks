{
 "cells": [
  {
   "cell_type": "markdown",
   "metadata": {},
   "source": [
    "## Jumpstart to Jupyter"
   ]
  },
  {
   "cell_type": "markdown",
   "metadata": {},
   "source": [
    "* How to execute the cell?\n",
    "\n",
    "    Use **Shift + Enter**\n",
    "    \n",
    "    \n",
    "* How to get the keyboard Shortcuts?\n",
    "\n",
    "    Use **Esc + H**\n",
    "    \n",
    "    \n",
    "* How to insert a new cell?\n",
    "\n",
    "    Use **Esc + A or Esc + B**\n",
    "    \n",
    "    \n",
    "* How to make the cell as Markdown?\n",
    "\n",
    "    Use ** Esc + M**\n",
    "\n",
    "\n",
    "* How to edit a cell?\n",
    "\n",
    "    Hit **enter** key to get into edit mode.\n",
    "    \n",
    "\n",
    "* How to execute shell / unix command?\n",
    "\n",
    "    Use magic line **% unix-command** . For example **%ls**\n",
    "    \n",
    "\n",
    "* How to create the Table of Contents in the Jupyter Notebook?\n",
    "\n",
    "  Try the note book extensions.\n",
    "  \n",
    "  * conda install -c conda-forge jupyter_contrib_nbextensions\n",
    "  * jupyter contrib nbextension install --user\n",
    "  * jupyter nbextension enable <nbextension require path>\n",
    "\n",
    "  * Configure using: http://localhost:8888/nbextensions\n"
   ]
  },
  {
   "cell_type": "code",
   "execution_count": 1,
   "metadata": {
    "collapsed": false
   },
   "outputs": [
    {
     "name": "stdout",
     "output_type": "stream",
     "text": [
      "JupyterJumpStart.ipynb         PythonPandas.ipynb\r\n",
      "KerasJumpStart.ipynb           README.md\r\n",
      "KerasJumpStart.py              ReferenceMaterialNB.ipynb\r\n",
      "MLWorkflow.ipynb               TheanoTutorial.ipynb\r\n",
      "NN_using_Theano.ipynb          \u001b[35mmy_new_file\u001b[m\u001b[m@\r\n",
      "PythonHelp.ipynb               my_new_file2\r\n",
      "PythonJumpStart.ipynb          submission.csv\r\n",
      "PythonMatplotlib.ipynb         submission_prob.csv\r\n",
      "PythonModulesJumpStart.ipynb   \u001b[34mtestDir\u001b[m\u001b[m/\r\n",
      "PythonModulesJumpStart2.ipynb  \u001b[34mtestDir2\u001b[m\u001b[m/\r\n",
      "PythonNumpy.ipynb\r\n"
     ]
    }
   ],
   "source": [
    "%ls"
   ]
  },
  {
   "cell_type": "code",
   "execution_count": null,
   "metadata": {
    "collapsed": true
   },
   "outputs": [],
   "source": []
  }
 ],
 "metadata": {
  "anaconda-cloud": {},
  "kernelspec": {
   "display_name": "Python 2",
   "language": "python",
   "name": "python2"
  },
  "language_info": {
   "codemirror_mode": {
    "name": "ipython",
    "version": 2
   },
   "file_extension": ".py",
   "mimetype": "text/x-python",
   "name": "python",
   "nbconvert_exporter": "python",
   "pygments_lexer": "ipython2",
   "version": "2.7.13"
  }
 },
 "nbformat": 4,
 "nbformat_minor": 1
}
