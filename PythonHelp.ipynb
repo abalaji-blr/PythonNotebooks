{
 "cells": [
  {
   "cell_type": "markdown",
   "metadata": {},
   "source": [
    "# Python Help"
   ]
  },
  {
   "cell_type": "markdown",
   "metadata": {},
   "source": [
    "## How to use Jupyter?\n",
    "\n",
    "* [Jumpstart to Jupyter](./JupyterJumpStart.ipynb)"
   ]
  },
  {
   "cell_type": "markdown",
   "metadata": {},
   "source": [
    "## Machine Learning Workflow\n",
    "\n",
    "* [Intro to Machine Learning Workflow](./MLWorkflow.ipynb)"
   ]
  },
  {
   "cell_type": "markdown",
   "metadata": {},
   "source": [
    "## Jumpstart to Python"
   ]
  },
  {
   "cell_type": "markdown",
   "metadata": {},
   "source": [
    "+ [Intro to Python](./PythonJumpStart.ipynb)\n",
    "+ [Python Modules](./PythonModulesJumpStart.ipynb)\n",
    "+ [Python Modules - Regular Expressions](./PythonModulesJumpStart2.ipynb)\n",
    "+ [N Dimensional Array Support: Numpy](./PythonNumpy.ipynb)\n",
    "+ [DataFrame support: Pandas](./PythonPandas.ipynb)\n",
    "+ [Plotting: matplotlib / seaborn ](./PythonMatplotlib.ipynb)"
   ]
  },
  {
   "cell_type": "markdown",
   "metadata": {},
   "source": [
    "## Sci Kit Learn \n",
    "\n",
    "* [Classes Documentation](http://scikit-learn.org/stable/modules/classes.html)\n",
    "* [Complete SciKit PDF Documentation](http://scikit-learn.org/dev/_downloads/scikit-learn-docs.pdf)"
   ]
  },
  {
   "cell_type": "markdown",
   "metadata": {},
   "source": [
    "## Deep Learning Libraries\n",
    "\n",
    "* [Intro to Theano](./TheanoTutorial.ipynb)\n",
    "* [Intro to Keras](./KerasJumpStart.ipynb)\n",
    "`"
   ]
  }
 ],
 "metadata": {
  "anaconda-cloud": {},
  "kernelspec": {
   "display_name": "Python [conda root]",
   "language": "python",
   "name": "conda-root-py"
  },
  "language_info": {
   "codemirror_mode": {
    "name": "ipython",
    "version": 2
   },
   "file_extension": ".py",
   "mimetype": "text/x-python",
   "name": "python",
   "nbconvert_exporter": "python",
   "pygments_lexer": "ipython2",
   "version": "2.7.12"
  }
 },
 "nbformat": 4,
 "nbformat_minor": 1
}
