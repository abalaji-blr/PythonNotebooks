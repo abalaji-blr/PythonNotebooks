{
 "cells": [
  {
   "cell_type": "markdown",
   "metadata": {},
   "source": [
    "## Implementation Details"
   ]
  },
  {
   "cell_type": "markdown",
   "metadata": {},
   "source": [
    "The OpenCV library has many modules [http://docs.opencv.org/3.2.0/]. Few are as follows:\n",
    "\n",
    "1. Core Modules : Basic Data structures - Mat\n",
    "2. Video\n"
   ]
  },
  {
   "cell_type": "markdown",
   "metadata": {},
   "source": [
    "* The image is evetually stored as a collection of numbers. To be precise, it is a matrix of numbers.\n",
    "\n",
    "* In the case of gray scale images, there is only one channel with range of values from 0 to 255.\n",
    "* Whereas, for the color image, there are **3 channels, Red, Green and Blue**.\n",
    "\n",
    "* They are stored in the data structure called **Mat** which is a N-dimensional dense array.\n",
    "* When the Mat object is passed around, it won't make a copy instead uses **reference count mechanism** to optimize the memory usage.\n",
    "* The API imread() reads the image and populates the Mat object in the **reverse order, ie., B, G, R**."
   ]
  },
  {
   "cell_type": "markdown",
   "metadata": {},
   "source": [
    "## Additional Resources\n",
    "\n",
    "1.[Why does opencv use B, G, R format?](https://www.learnopencv.com/why-does-opencv-use-bgr-color-format/)"
   ]
  },
  {
   "cell_type": "code",
   "execution_count": 1,
   "metadata": {
    "collapsed": true
   },
   "outputs": [],
   "source": [
    "import numpy as np\n",
    "import cv2"
   ]
  },
  {
   "cell_type": "code",
   "execution_count": 2,
   "metadata": {
    "collapsed": false
   },
   "outputs": [
    {
     "data": {
      "text/plain": [
       "'3.1.0'"
      ]
     },
     "execution_count": 2,
     "metadata": {},
     "output_type": "execute_result"
    }
   ],
   "source": [
    "cv2.__version__"
   ]
  },
  {
   "cell_type": "code",
   "execution_count": 2,
   "metadata": {
    "collapsed": true
   },
   "outputs": [],
   "source": [
    "img = cv2.imread('./hello.jpeg', 0)"
   ]
  },
  {
   "cell_type": "code",
   "execution_count": 3,
   "metadata": {
    "collapsed": false
   },
   "outputs": [
    {
     "name": "stdout",
     "output_type": "stream",
     "text": [
      "[[243 243 243 ..., 243 243 243]\n",
      " [243 243 243 ..., 243 243 243]\n",
      " [243 243 243 ..., 243 243 243]\n",
      " ..., \n",
      " [243 243 243 ..., 243 243 243]\n",
      " [243 243 243 ..., 243 243 243]\n",
      " [243 243 243 ..., 243 243 243]]\n"
     ]
    }
   ],
   "source": [
    "# img is a Mat\n",
    "print(img)"
   ]
  },
  {
   "cell_type": "code",
   "execution_count": 4,
   "metadata": {
    "collapsed": false
   },
   "outputs": [
    {
     "name": "stdout",
     "output_type": "stream",
     "text": [
      "(142, 354)\n"
     ]
    }
   ],
   "source": [
    "print(img.shape)"
   ]
  },
  {
   "cell_type": "code",
   "execution_count": 8,
   "metadata": {
    "collapsed": false
   },
   "outputs": [
    {
     "name": "stdout",
     "output_type": "stream",
     "text": [
      "[243 243 243 243 243 243 243 243 243 243 243 243 243 243 243 243 243 243\n",
      " 243 243 243 243 243 243 243 243 243 243 243 243 243 243 243 243 243 243\n",
      " 243 243 243 243 252 147  91 115 173 145 163 150 154 154 154 154 154 154\n",
      " 154 154 140 152 143 155 146 177 196 197 205  66  24  22   9  98 218 248\n",
      " 248 237 240 252 237 239 246 208 195 194 194 170  13  35  80   0  11   7\n",
      "   1   0   0   0   5   9  59  32  34   0  61   2   6   0   0   0   4   1\n",
      "   0   0   2  42 186 218 168 200 198 192  12 117 224 244 239 241 245 241\n",
      " 245 241 243 243 243 243 243 243 243 243 243 243 243 243 243 243 243 243\n",
      " 237 240 244 248 249 248 247 245 248 255 241 244 129  82  85  84  98  99\n",
      "  99  98  96  93  89  88  95  91  91  83  91  99  86 202 243 221 233 218\n",
      "  30  94 214 244 243 243 243 243 243 243 243 243 243 243 243 243 243 243\n",
      " 243 243 239 249 196 206 184 226 217 228 226 226 226 226 226 226 226 226\n",
      " 222 221 222 220 222 209 189 200 204 182  44  35  91 174 240 240 243 243\n",
      " 243 243 243 243 243 243 240 238 242 242 240 247 247 234 131 150 154  82\n",
      "   0 121 170  59  68  67  56  58  68  62  62  83  59  60  61  62  62  63\n",
      "  64  65  70  61  69  50  51 183 182 130 141 154  36 132 231 249 243 241\n",
      " 243 243 243 243 243 243 243 243 247 205 202 200 184  96 107 100 103 103\n",
      " 103 103 103 103 103 103 107  99 104 100 104  99 100 146 212 205 208 208\n",
      "  75  85 215 238 243 243 243 243 243 243 243 243 243 243 243 243 243 243\n",
      " 243 243 243 243 243 243 243 243 243 243 243 243]\n"
     ]
    }
   ],
   "source": [
    "print(img[75,])"
   ]
  },
  {
   "cell_type": "code",
   "execution_count": 11,
   "metadata": {
    "collapsed": false
   },
   "outputs": [],
   "source": [
    "## let's read a color image\n",
    "colr_img = cv2.imread('./hello.jpeg', cv2.IMREAD_COLOR)"
   ]
  },
  {
   "cell_type": "code",
   "execution_count": 12,
   "metadata": {
    "collapsed": false
   },
   "outputs": [
    {
     "name": "stdout",
     "output_type": "stream",
     "text": [
      "(142, 354, 3)\n"
     ]
    }
   ],
   "source": [
    "print(colr_img.shape)"
   ]
  },
  {
   "cell_type": "markdown",
   "metadata": {},
   "source": [
    "There are three channels for this color image of size 142x354 pixels."
   ]
  },
  {
   "cell_type": "code",
   "execution_count": 15,
   "metadata": {
    "collapsed": false
   },
   "outputs": [
    {
     "name": "stdout",
     "output_type": "stream",
     "text": [
      "[[[153 255 254]\n",
      "  [153 255 254]\n",
      "  [153 255 254]\n",
      "  ..., \n",
      "  [153 255 254]\n",
      "  [153 255 254]\n",
      "  [153 255 254]]\n",
      "\n",
      " [[153 255 254]\n",
      "  [153 255 254]\n",
      "  [153 255 254]\n",
      "  ..., \n",
      "  [153 255 254]\n",
      "  [153 255 254]\n",
      "  [153 255 254]]\n",
      "\n",
      " [[153 255 254]\n",
      "  [153 255 254]\n",
      "  [153 255 254]\n",
      "  ..., \n",
      "  [153 255 254]\n",
      "  [153 255 254]\n",
      "  [153 255 254]]\n",
      "\n",
      " ..., \n",
      " [[153 255 254]\n",
      "  [153 255 254]\n",
      "  [153 255 254]\n",
      "  ..., \n",
      "  [153 255 254]\n",
      "  [153 255 254]\n",
      "  [153 255 254]]\n",
      "\n",
      " [[153 255 254]\n",
      "  [153 255 254]\n",
      "  [153 255 254]\n",
      "  ..., \n",
      "  [153 255 254]\n",
      "  [153 255 254]\n",
      "  [153 255 254]]\n",
      "\n",
      " [[153 255 254]\n",
      "  [153 255 254]\n",
      "  [153 255 254]\n",
      "  ..., \n",
      "  [153 255 254]\n",
      "  [153 255 254]\n",
      "  [153 255 254]]]\n"
     ]
    }
   ],
   "source": [
    "print(colr_img)"
   ]
  },
  {
   "cell_type": "code",
   "execution_count": 16,
   "metadata": {
    "collapsed": false
   },
   "outputs": [
    {
     "name": "stdout",
     "output_type": "stream",
     "text": [
      "(array([[153, 255, 254],\n",
      "       [153, 255, 254],\n",
      "       [153, 255, 254],\n",
      "       ..., \n",
      "       [153, 255, 254],\n",
      "       [153, 255, 254],\n",
      "       [153, 255, 254]], dtype=uint8), array([[153, 255, 254],\n",
      "       [153, 255, 254],\n",
      "       [153, 255, 254],\n",
      "       ..., \n",
      "       [153, 255, 254],\n",
      "       [153, 255, 254],\n",
      "       [153, 255, 254]], dtype=uint8), array([[153, 255, 254],\n",
      "       [153, 255, 254],\n",
      "       [153, 255, 254],\n",
      "       ..., \n",
      "       [153, 255, 254],\n",
      "       [153, 255, 254],\n",
      "       [153, 255, 254]], dtype=uint8))\n"
     ]
    }
   ],
   "source": [
    "print(colr_img[0], colr_img[1], colr_img[2])"
   ]
  },
  {
   "cell_type": "code",
   "execution_count": null,
   "metadata": {
    "collapsed": true
   },
   "outputs": [],
   "source": []
  }
 ],
 "metadata": {
  "kernelspec": {
   "display_name": "Python 2",
   "language": "python",
   "name": "python2"
  },
  "language_info": {
   "codemirror_mode": {
    "name": "ipython",
    "version": 2
   },
   "file_extension": ".py",
   "mimetype": "text/x-python",
   "name": "python",
   "nbconvert_exporter": "python",
   "pygments_lexer": "ipython2",
   "version": "2.7.13"
  }
 },
 "nbformat": 4,
 "nbformat_minor": 2
}
