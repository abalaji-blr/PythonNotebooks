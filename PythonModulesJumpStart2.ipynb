{
 "cells": [
  {
   "cell_type": "markdown",
   "metadata": {},
   "source": [
    "## Python Modules Jump Start Guide\n",
    "\n",
    "   * [Regular Expression: Wild Card Characters](#re_wild)\n",
    "   * [Regular Expression: Match](#re_match)\n",
    "   * [Regular Expression: Search](#re_search)\n",
    "   * [Regular Expression: Substitute](#re_sub)"
   ]
  },
  {
   "cell_type": "markdown",
   "metadata": {},
   "source": [
    "<a id='re_wild'></a>\n",
    "### Regular Expressions\n",
    "\n",
    "Here is a quick cheat sheet for various rules in regular expressions:\n",
    "\n",
    "\n",
    "**Identifiers:**\n",
    "\n",
    "* \\d = any number\n",
    "* \\D = anything but a number\n",
    "* \\s = space\n",
    "* \\S = anything but a space\n",
    "* \\w = any letter\n",
    "* \\W = anything but a letter\n",
    "* . = any character, except for a new line\n",
    "* \\b = space around whole words\n",
    "* \\. = period. must use backslash, because . normally means any character.\n",
    "\n",
    "**Modifiers:**\n",
    "\n",
    "\n",
    "* {1,3} = for digits, u expect 1-3 counts of digits, or \"places\"\n",
    "* \\+ = match 1 or more\n",
    "* ? = match 0 or 1 repetitions.\n",
    "* \\* = match 0 or MORE repetitions\n",
    "* $ = matches at the end of string\n",
    "* ^ = matches start of a string\n",
    "* | = matches either/or. Example x|y = will match either x or y\n",
    "* [] = range, or \"variance\"\n",
    "* {x} = expect to see this amount of the preceding code.\n",
    "* {x,y} = expect to see this x-y amounts of the precedng code\n",
    "\n",
    "\n",
    "**White Space Charts:**\n",
    "\n",
    "* \\n = new line\n",
    "* \\s = space\n",
    "* \\t = tab\n",
    "* \\e = escape\n",
    "* \\f = form feed\n",
    "* \\r = carriage return\n",
    "\n",
    "**Characters to REMEMBER TO ESCAPE IF USED!**\n",
    "\n",
    ". + * ? [ ] $ ^ ( ) { } | \\\n",
    "\n",
    "**Brackets:**\n",
    "\n",
    "[] = quant[ia]tative = will find either quantitative, or quantatative.\n",
    "[a-z] = return any lowercase letter a-z\n",
    "[1-5a-qA-Z] = return all numbers 1-5, lowercase letters a-q and uppercase A-Z\n",
    "\n",
    "Refer to [Python programming dot net](https://pythonprogramming.net/regular-expressions-regex-tutorial-python-3/)"
   ]
  },
  {
   "cell_type": "markdown",
   "metadata": {},
   "source": [
    "\n",
    "* **re.split(pattern, str)**\n",
    "* **re.findall(patter, str)  where pattern format is => r''**\n",
    "* **re.match(pattern, str)**\n",
    "* **re.search(pattern, str)**\n"
   ]
  },
  {
   "cell_type": "code",
   "execution_count": 2,
   "metadata": {
    "collapsed": true
   },
   "outputs": [],
   "source": [
    "import re"
   ]
  },
  {
   "cell_type": "code",
   "execution_count": 3,
   "metadata": {
    "collapsed": false
   },
   "outputs": [
    {
     "name": "stdout",
     "output_type": "stream",
     "text": [
      "['The', 'quick', 'brown', 'fox', 'jumped', 'over', 'lazy', 'dog', '1234546789', 'times']\n"
     ]
    }
   ],
   "source": [
    "str1 = 'The quick brown fox jumped over lazy dog 1234546789 times'\n",
    "\n",
    "str2 = 'Daniel is 10 years old. His dad Peter is 40 years old and his mother April is 36 years old.'\n",
    "\n",
    "words = re.split(r'\\W', str1)\n",
    "print(words)"
   ]
  },
  {
   "cell_type": "code",
   "execution_count": 14,
   "metadata": {
    "collapsed": false
   },
   "outputs": [
    {
     "name": "stdout",
     "output_type": "stream",
     "text": [
      "1234546789\n",
      "['10', '40', '36']\n"
     ]
    }
   ],
   "source": [
    "num = re.findall(r'\\d+', str)\n",
    "print(int(num[0]))\n",
    "\n",
    "num2 = re.findall(r'\\d+', str2)\n",
    "print(num2)"
   ]
  },
  {
   "cell_type": "markdown",
   "metadata": {},
   "source": [
    "<a id='re_match'></a>\n",
    "### Match \n",
    "\n",
    "  * **Looks for match at the begining of the string.**"
   ]
  },
  {
   "cell_type": "code",
   "execution_count": 25,
   "metadata": {
    "collapsed": false
   },
   "outputs": [
    {
     "name": "stdout",
     "output_type": "stream",
     "text": [
      "None\n",
      "Daniel\n"
     ]
    }
   ],
   "source": [
    "mat1 = re.match(r'\\d+', str2)\n",
    "print(mat1)\n",
    "\n",
    "mat2 = re.match(r'\\w+', str2)\n",
    "if mat2:\n",
    "    print(str2[:mat2.end()])"
   ]
  },
  {
   "cell_type": "markdown",
   "metadata": {},
   "source": [
    "<a id='re_search'></a>\n",
    "### Search \n",
    "\n",
    "   * **Looks for match in the complete string.**"
   ]
  },
  {
   "cell_type": "code",
   "execution_count": 23,
   "metadata": {
    "collapsed": false
   },
   "outputs": [
    {
     "name": "stdout",
     "output_type": "stream",
     "text": [
      "Daniel is \n",
      "Daniel is 10\n"
     ]
    }
   ],
   "source": [
    "match = re.search(r'\\d+', str2)\n",
    "if match:\n",
    "    print(str2[:match.start()])\n",
    "    print(str2[:match.end()])\n"
   ]
  },
  {
   "cell_type": "markdown",
   "metadata": {
    "collapsed": true
   },
   "source": [
    "<a id='re_sub'></a>\n",
    "\n",
    "### Substitute\n",
    "\n",
    "   * **Finds and replaces the pattern with replacement string**."
   ]
  },
  {
   "cell_type": "code",
   "execution_count": 5,
   "metadata": {
    "collapsed": false
   },
   "outputs": [
    {
     "name": "stdout",
     "output_type": "stream",
     "text": [
      "The quick brown fox jumped over lazy dog 987 times\n"
     ]
    }
   ],
   "source": [
    "str1 = 'The quick brown fox jumped over lazy dog 1234546789 times'\n",
    "str2 = '987'\n",
    "\n",
    "print(re.sub(r\"\\d+\", str2, str1))"
   ]
  },
  {
   "cell_type": "code",
   "execution_count": 8,
   "metadata": {
    "collapsed": false
   },
   "outputs": [
    {
     "name": "stdout",
     "output_type": "stream",
     "text": [
      "Hello HELLO HELLo hi\n",
      "hi hi hi hi\n"
     ]
    }
   ],
   "source": [
    "temp1 = \"Hello HELLO HELLo hello\"\n",
    "\n",
    "temp2 = \"hi\"\n",
    "\n",
    "print(re.sub(r\"hello\", temp2, temp1))\n",
    "\n",
    "print(re.sub(r\"hello\", temp2, temp1, flags=re.I)) # ignore case: re.I"
   ]
  },
  {
   "cell_type": "code",
   "execution_count": null,
   "metadata": {
    "collapsed": true
   },
   "outputs": [],
   "source": []
  }
 ],
 "metadata": {
  "anaconda-cloud": {},
  "kernelspec": {
   "display_name": "Python 2",
   "language": "python",
   "name": "python2"
  },
  "language_info": {
   "codemirror_mode": {
    "name": "ipython",
    "version": 2
   },
   "file_extension": ".py",
   "mimetype": "text/x-python",
   "name": "python",
   "nbconvert_exporter": "python",
   "pygments_lexer": "ipython2",
   "version": "2.7.14"
  }
 },
 "nbformat": 4,
 "nbformat_minor": 1
}
