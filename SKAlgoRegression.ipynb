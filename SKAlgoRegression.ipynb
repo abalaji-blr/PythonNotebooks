{
 "cells": [
  {
   "cell_type": "markdown",
   "metadata": {},
   "source": [
    "## Sci Kit Algorithms"
   ]
  },
  {
   "cell_type": "code",
   "execution_count": 1,
   "metadata": {
    "collapsed": true
   },
   "outputs": [],
   "source": [
    "import sklearn"
   ]
  },
  {
   "cell_type": "markdown",
   "metadata": {},
   "source": [
    "## Regression Algorithms"
   ]
  },
  {
   "cell_type": "markdown",
   "metadata": {},
   "source": [
    "Following are some of the algorithms for **regression tasks**.\n",
    "\n",
    "1. Lasso Regression\n",
    "2. Ridge Regression\n",
    "3. Elastic Net\n",
    "4. Random Forest\n",
    "5. Boosted trees"
   ]
  },
  {
   "cell_type": "markdown",
   "metadata": {},
   "source": [
    "## Model Complexity"
   ]
  },
  {
   "cell_type": "markdown",
   "metadata": {},
   "source": [
    "**Model Complexity : is a model's inherent freedom to represent the complex relationship between input features and the target variable.**\n",
    "\n",
    "One of the important task is, we need to make sure the model **is not overfit**. That is, the model does not memorize all the training data (which usually has noise as well).\n",
    "\n",
    "The following are some of the ways to **avoid overfitting**.\n",
    "\n",
    "1. **Regularlization:** is a technique to prevent overfitting by artifically penalizing the model coefficients. There are two types of penalities: L1 and L2.\n",
    "    \n",
    "    * The L1 penalizes the absoulte size of model coefficients.\n",
    "    * The L2 penalizes the squared size of model coefficients.\n",
    "    \n",
    "    The 'lamda' is the tunable parameter - 'strength' of penality. Typically they range from 0 to 10.\n",
    "    \n",
    "2. **Ensembling** is a machine learning model which combines multiple individual model to one single model. \n",
    "\n",
    "    * Bagging: tries to reduce the chance of overfit of **complex** models\n",
    "        + It trains the large number of **strong** learners.\n",
    "        + Strong learner has high complexity\n",
    "        + It combines the strong learners to 'smooth out' the predictions.\n",
    "        \n",
    "    * Boosting: improves the predictablity of **simple** models.\n",
    "        + It trains the large number of **weak** learners.\n",
    "        + Weak learner has limited complexity.\n",
    "        + It combines all weak learners into single strong learner.\n",
    "\n",
    "3. Train / Test set splitting\n",
    "\n",
    "4. Cross validation\n",
    "\n"
   ]
  },
  {
   "cell_type": "markdown",
   "metadata": {},
   "source": [
    "## Regularized Regression\n",
    "\n",
    "1. Lasso\n",
    "    * LASSO : stands for Least Absoulte Shrinkage and Selection Operator.\n",
    "    * It completely relies on L1 penalty\n",
    "    * The stronger penalty leads to coefficients pushed to zero.\n",
    "    * from sklearn.linear_model import Lasso\n",
    "    \n",
    "2. Ridge\n",
    "    * from sklearn.linear_model import Ridge\n",
    "    * It completely relies on L2 penalty\n",
    "    * Practically, this leads to smaller coefficents but does not force them to zero.\n",
    "    * The stronger penalty leads the coefficients pushed *closer* to zero.\n",
    "    \n",
    "3. Elastic Net\n",
    "    * from sklear.linear_model import ElasticNet\n",
    "    * It combines both L1 & L2 penalty\n",
    "    * For the model, the *ratio of L1 and L2 penalty* needs to be tuned.\n",
    "    * "
   ]
  },
  {
   "cell_type": "code",
   "execution_count": 2,
   "metadata": {
    "collapsed": true
   },
   "outputs": [],
   "source": [
    " "
   ]
  }
 ],
 "metadata": {
  "anaconda-cloud": {},
  "kernelspec": {
   "display_name": "Python [conda root]",
   "language": "python",
   "name": "conda-root-py"
  },
  "language_info": {
   "codemirror_mode": {
    "name": "ipython",
    "version": 2
   },
   "file_extension": ".py",
   "mimetype": "text/x-python",
   "name": "python",
   "nbconvert_exporter": "python",
   "pygments_lexer": "ipython2",
   "version": "2.7.12"
  }
 },
 "nbformat": 4,
 "nbformat_minor": 1
}
