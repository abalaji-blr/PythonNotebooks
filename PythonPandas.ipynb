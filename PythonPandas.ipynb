{
 "cells": [
  {
   "cell_type": "markdown",
   "metadata": {},
   "source": [
    "## Python Pandas"
   ]
  },
  {
   "cell_type": "markdown",
   "metadata": {},
   "source": [
    "Pandas is a package which supports data frame. The data frame is a notion of having rows and multiple columns of data, like spreadsheet. The Excel may not be ideal to handle large dataset. Pandas is comparatively faster than Excel in handling the large datasets.\n"
   ]
  },
  {
   "cell_type": "markdown",
   "metadata": {},
   "source": [
    "### Resources\n",
    "\n",
    "* [Intro to Panda Datastructures](http://www.gregreda.com/2013/10/26/intro-to-pandas-data-structures/)\n",
    "* [Data School: Top 8 Python/Panda Resources](http://www.dataschool.io/best-python-pandas-resources/)\n",
    "* [10min guide](http://pandas.pydata.org/pandas-docs/stable/10min.html)\n",
    "* [Analytics Vidhya](https://www.analyticsvidhya.com/blog/2016/01/complete-tutorial-learn-data-science-python-scratch-2/)"
   ]
  },
  {
   "cell_type": "markdown",
   "metadata": {},
   "source": [
    "## Series"
   ]
  },
  {
   "cell_type": "code",
   "execution_count": null,
   "metadata": {
    "collapsed": true
   },
   "outputs": [],
   "source": []
  },
  {
   "cell_type": "markdown",
   "metadata": {},
   "source": [
    "## Dataframe"
   ]
  },
  {
   "cell_type": "markdown",
   "metadata": {},
   "source": [
    "### Creation of Dataframes"
   ]
  },
  {
   "cell_type": "code",
   "execution_count": 12,
   "metadata": {
    "collapsed": false
   },
   "outputs": [],
   "source": [
    "# df = pd.dataframe()\n",
    "\n",
    "# df.info() # index & data types\n",
    "# dfh = df.head(i) # get first i rows\n",
    "# dft = df.tail(i) # get last i rows\n",
    "# dfs = df.describe() # summary stats cols\n",
    "# top_left_corner_df = df.iloc[:4, :4]\n",
    "# \n"
   ]
  },
  {
   "cell_type": "code",
   "execution_count": 20,
   "metadata": {
    "collapsed": false,
    "scrolled": false
   },
   "outputs": [
    {
     "name": "stdout",
     "output_type": "stream",
     "text": [
      "<type 'numpy.ndarray'>\n",
      "{'target_names': array(['setosa', 'versicolor', 'virginica'], \n",
      "      dtype='|S10'), 'data': array([[ 5.1,  3.5,  1.4,  0.2],\n",
      "       [ 4.9,  3. ,  1.4,  0.2],\n",
      "       [ 4.7,  3.2,  1.3,  0.2],\n",
      "       [ 4.6,  3.1,  1.5,  0.2],\n",
      "       [ 5. ,  3.6,  1.4,  0.2],\n",
      "       [ 5.4,  3.9,  1.7,  0.4],\n",
      "       [ 4.6,  3.4,  1.4,  0.3],\n",
      "       [ 5. ,  3.4,  1.5,  0.2],\n",
      "       [ 4.4,  2.9,  1.4,  0.2],\n",
      "       [ 4.9,  3.1,  1.5,  0.1],\n",
      "       [ 5.4,  3.7,  1.5,  0.2],\n",
      "       [ 4.8,  3.4,  1.6,  0.2],\n",
      "       [ 4.8,  3. ,  1.4,  0.1],\n",
      "       [ 4.3,  3. ,  1.1,  0.1],\n",
      "       [ 5.8,  4. ,  1.2,  0.2],\n",
      "       [ 5.7,  4.4,  1.5,  0.4],\n",
      "       [ 5.4,  3.9,  1.3,  0.4],\n",
      "       [ 5.1,  3.5,  1.4,  0.3],\n",
      "       [ 5.7,  3.8,  1.7,  0.3],\n",
      "       [ 5.1,  3.8,  1.5,  0.3],\n",
      "       [ 5.4,  3.4,  1.7,  0.2],\n",
      "       [ 5.1,  3.7,  1.5,  0.4],\n",
      "       [ 4.6,  3.6,  1. ,  0.2],\n",
      "       [ 5.1,  3.3,  1.7,  0.5],\n",
      "       [ 4.8,  3.4,  1.9,  0.2],\n",
      "       [ 5. ,  3. ,  1.6,  0.2],\n",
      "       [ 5. ,  3.4,  1.6,  0.4],\n",
      "       [ 5.2,  3.5,  1.5,  0.2],\n",
      "       [ 5.2,  3.4,  1.4,  0.2],\n",
      "       [ 4.7,  3.2,  1.6,  0.2],\n",
      "       [ 4.8,  3.1,  1.6,  0.2],\n",
      "       [ 5.4,  3.4,  1.5,  0.4],\n",
      "       [ 5.2,  4.1,  1.5,  0.1],\n",
      "       [ 5.5,  4.2,  1.4,  0.2],\n",
      "       [ 4.9,  3.1,  1.5,  0.1],\n",
      "       [ 5. ,  3.2,  1.2,  0.2],\n",
      "       [ 5.5,  3.5,  1.3,  0.2],\n",
      "       [ 4.9,  3.1,  1.5,  0.1],\n",
      "       [ 4.4,  3. ,  1.3,  0.2],\n",
      "       [ 5.1,  3.4,  1.5,  0.2],\n",
      "       [ 5. ,  3.5,  1.3,  0.3],\n",
      "       [ 4.5,  2.3,  1.3,  0.3],\n",
      "       [ 4.4,  3.2,  1.3,  0.2],\n",
      "       [ 5. ,  3.5,  1.6,  0.6],\n",
      "       [ 5.1,  3.8,  1.9,  0.4],\n",
      "       [ 4.8,  3. ,  1.4,  0.3],\n",
      "       [ 5.1,  3.8,  1.6,  0.2],\n",
      "       [ 4.6,  3.2,  1.4,  0.2],\n",
      "       [ 5.3,  3.7,  1.5,  0.2],\n",
      "       [ 5. ,  3.3,  1.4,  0.2],\n",
      "       [ 7. ,  3.2,  4.7,  1.4],\n",
      "       [ 6.4,  3.2,  4.5,  1.5],\n",
      "       [ 6.9,  3.1,  4.9,  1.5],\n",
      "       [ 5.5,  2.3,  4. ,  1.3],\n",
      "       [ 6.5,  2.8,  4.6,  1.5],\n",
      "       [ 5.7,  2.8,  4.5,  1.3],\n",
      "       [ 6.3,  3.3,  4.7,  1.6],\n",
      "       [ 4.9,  2.4,  3.3,  1. ],\n",
      "       [ 6.6,  2.9,  4.6,  1.3],\n",
      "       [ 5.2,  2.7,  3.9,  1.4],\n",
      "       [ 5. ,  2. ,  3.5,  1. ],\n",
      "       [ 5.9,  3. ,  4.2,  1.5],\n",
      "       [ 6. ,  2.2,  4. ,  1. ],\n",
      "       [ 6.1,  2.9,  4.7,  1.4],\n",
      "       [ 5.6,  2.9,  3.6,  1.3],\n",
      "       [ 6.7,  3.1,  4.4,  1.4],\n",
      "       [ 5.6,  3. ,  4.5,  1.5],\n",
      "       [ 5.8,  2.7,  4.1,  1. ],\n",
      "       [ 6.2,  2.2,  4.5,  1.5],\n",
      "       [ 5.6,  2.5,  3.9,  1.1],\n",
      "       [ 5.9,  3.2,  4.8,  1.8],\n",
      "       [ 6.1,  2.8,  4. ,  1.3],\n",
      "       [ 6.3,  2.5,  4.9,  1.5],\n",
      "       [ 6.1,  2.8,  4.7,  1.2],\n",
      "       [ 6.4,  2.9,  4.3,  1.3],\n",
      "       [ 6.6,  3. ,  4.4,  1.4],\n",
      "       [ 6.8,  2.8,  4.8,  1.4],\n",
      "       [ 6.7,  3. ,  5. ,  1.7],\n",
      "       [ 6. ,  2.9,  4.5,  1.5],\n",
      "       [ 5.7,  2.6,  3.5,  1. ],\n",
      "       [ 5.5,  2.4,  3.8,  1.1],\n",
      "       [ 5.5,  2.4,  3.7,  1. ],\n",
      "       [ 5.8,  2.7,  3.9,  1.2],\n",
      "       [ 6. ,  2.7,  5.1,  1.6],\n",
      "       [ 5.4,  3. ,  4.5,  1.5],\n",
      "       [ 6. ,  3.4,  4.5,  1.6],\n",
      "       [ 6.7,  3.1,  4.7,  1.5],\n",
      "       [ 6.3,  2.3,  4.4,  1.3],\n",
      "       [ 5.6,  3. ,  4.1,  1.3],\n",
      "       [ 5.5,  2.5,  4. ,  1.3],\n",
      "       [ 5.5,  2.6,  4.4,  1.2],\n",
      "       [ 6.1,  3. ,  4.6,  1.4],\n",
      "       [ 5.8,  2.6,  4. ,  1.2],\n",
      "       [ 5. ,  2.3,  3.3,  1. ],\n",
      "       [ 5.6,  2.7,  4.2,  1.3],\n",
      "       [ 5.7,  3. ,  4.2,  1.2],\n",
      "       [ 5.7,  2.9,  4.2,  1.3],\n",
      "       [ 6.2,  2.9,  4.3,  1.3],\n",
      "       [ 5.1,  2.5,  3. ,  1.1],\n",
      "       [ 5.7,  2.8,  4.1,  1.3],\n",
      "       [ 6.3,  3.3,  6. ,  2.5],\n",
      "       [ 5.8,  2.7,  5.1,  1.9],\n",
      "       [ 7.1,  3. ,  5.9,  2.1],\n",
      "       [ 6.3,  2.9,  5.6,  1.8],\n",
      "       [ 6.5,  3. ,  5.8,  2.2],\n",
      "       [ 7.6,  3. ,  6.6,  2.1],\n",
      "       [ 4.9,  2.5,  4.5,  1.7],\n",
      "       [ 7.3,  2.9,  6.3,  1.8],\n",
      "       [ 6.7,  2.5,  5.8,  1.8],\n",
      "       [ 7.2,  3.6,  6.1,  2.5],\n",
      "       [ 6.5,  3.2,  5.1,  2. ],\n",
      "       [ 6.4,  2.7,  5.3,  1.9],\n",
      "       [ 6.8,  3. ,  5.5,  2.1],\n",
      "       [ 5.7,  2.5,  5. ,  2. ],\n",
      "       [ 5.8,  2.8,  5.1,  2.4],\n",
      "       [ 6.4,  3.2,  5.3,  2.3],\n",
      "       [ 6.5,  3. ,  5.5,  1.8],\n",
      "       [ 7.7,  3.8,  6.7,  2.2],\n",
      "       [ 7.7,  2.6,  6.9,  2.3],\n",
      "       [ 6. ,  2.2,  5. ,  1.5],\n",
      "       [ 6.9,  3.2,  5.7,  2.3],\n",
      "       [ 5.6,  2.8,  4.9,  2. ],\n",
      "       [ 7.7,  2.8,  6.7,  2. ],\n",
      "       [ 6.3,  2.7,  4.9,  1.8],\n",
      "       [ 6.7,  3.3,  5.7,  2.1],\n",
      "       [ 7.2,  3.2,  6. ,  1.8],\n",
      "       [ 6.2,  2.8,  4.8,  1.8],\n",
      "       [ 6.1,  3. ,  4.9,  1.8],\n",
      "       [ 6.4,  2.8,  5.6,  2.1],\n",
      "       [ 7.2,  3. ,  5.8,  1.6],\n",
      "       [ 7.4,  2.8,  6.1,  1.9],\n",
      "       [ 7.9,  3.8,  6.4,  2. ],\n",
      "       [ 6.4,  2.8,  5.6,  2.2],\n",
      "       [ 6.3,  2.8,  5.1,  1.5],\n",
      "       [ 6.1,  2.6,  5.6,  1.4],\n",
      "       [ 7.7,  3. ,  6.1,  2.3],\n",
      "       [ 6.3,  3.4,  5.6,  2.4],\n",
      "       [ 6.4,  3.1,  5.5,  1.8],\n",
      "       [ 6. ,  3. ,  4.8,  1.8],\n",
      "       [ 6.9,  3.1,  5.4,  2.1],\n",
      "       [ 6.7,  3.1,  5.6,  2.4],\n",
      "       [ 6.9,  3.1,  5.1,  2.3],\n",
      "       [ 5.8,  2.7,  5.1,  1.9],\n",
      "       [ 6.8,  3.2,  5.9,  2.3],\n",
      "       [ 6.7,  3.3,  5.7,  2.5],\n",
      "       [ 6.7,  3. ,  5.2,  2.3],\n",
      "       [ 6.3,  2.5,  5. ,  1.9],\n",
      "       [ 6.5,  3. ,  5.2,  2. ],\n",
      "       [ 6.2,  3.4,  5.4,  2.3],\n",
      "       [ 5.9,  3. ,  5.1,  1.8]]), 'target': array([0, 0, 0, 0, 0, 0, 0, 0, 0, 0, 0, 0, 0, 0, 0, 0, 0, 0, 0, 0, 0, 0, 0,\n",
      "       0, 0, 0, 0, 0, 0, 0, 0, 0, 0, 0, 0, 0, 0, 0, 0, 0, 0, 0, 0, 0, 0, 0,\n",
      "       0, 0, 0, 0, 1, 1, 1, 1, 1, 1, 1, 1, 1, 1, 1, 1, 1, 1, 1, 1, 1, 1, 1,\n",
      "       1, 1, 1, 1, 1, 1, 1, 1, 1, 1, 1, 1, 1, 1, 1, 1, 1, 1, 1, 1, 1, 1, 1,\n",
      "       1, 1, 1, 1, 1, 1, 1, 1, 2, 2, 2, 2, 2, 2, 2, 2, 2, 2, 2, 2, 2, 2, 2,\n",
      "       2, 2, 2, 2, 2, 2, 2, 2, 2, 2, 2, 2, 2, 2, 2, 2, 2, 2, 2, 2, 2, 2, 2,\n",
      "       2, 2, 2, 2, 2, 2, 2, 2, 2, 2, 2, 2]), 'DESCR': 'Iris Plants Database\\n\\nNotes\\n-----\\nData Set Characteristics:\\n    :Number of Instances: 150 (50 in each of three classes)\\n    :Number of Attributes: 4 numeric, predictive attributes and the class\\n    :Attribute Information:\\n        - sepal length in cm\\n        - sepal width in cm\\n        - petal length in cm\\n        - petal width in cm\\n        - class:\\n                - Iris-Setosa\\n                - Iris-Versicolour\\n                - Iris-Virginica\\n    :Summary Statistics:\\n\\n    ============== ==== ==== ======= ===== ====================\\n                    Min  Max   Mean    SD   Class Correlation\\n    ============== ==== ==== ======= ===== ====================\\n    sepal length:   4.3  7.9   5.84   0.83    0.7826\\n    sepal width:    2.0  4.4   3.05   0.43   -0.4194\\n    petal length:   1.0  6.9   3.76   1.76    0.9490  (high!)\\n    petal width:    0.1  2.5   1.20  0.76     0.9565  (high!)\\n    ============== ==== ==== ======= ===== ====================\\n\\n    :Missing Attribute Values: None\\n    :Class Distribution: 33.3% for each of 3 classes.\\n    :Creator: R.A. Fisher\\n    :Donor: Michael Marshall (MARSHALL%PLU@io.arc.nasa.gov)\\n    :Date: July, 1988\\n\\nThis is a copy of UCI ML iris datasets.\\nhttp://archive.ics.uci.edu/ml/datasets/Iris\\n\\nThe famous Iris database, first used by Sir R.A Fisher\\n\\nThis is perhaps the best known database to be found in the\\npattern recognition literature.  Fisher\\'s paper is a classic in the field and\\nis referenced frequently to this day.  (See Duda & Hart, for example.)  The\\ndata set contains 3 classes of 50 instances each, where each class refers to a\\ntype of iris plant.  One class is linearly separable from the other 2; the\\nlatter are NOT linearly separable from each other.\\n\\nReferences\\n----------\\n   - Fisher,R.A. \"The use of multiple measurements in taxonomic problems\"\\n     Annual Eugenics, 7, Part II, 179-188 (1936); also in \"Contributions to\\n     Mathematical Statistics\" (John Wiley, NY, 1950).\\n   - Duda,R.O., & Hart,P.E. (1973) Pattern Classification and Scene Analysis.\\n     (Q327.D83) John Wiley & Sons.  ISBN 0-471-22361-1.  See page 218.\\n   - Dasarathy, B.V. (1980) \"Nosing Around the Neighborhood: A New System\\n     Structure and Classification Rule for Recognition in Partially Exposed\\n     Environments\".  IEEE Transactions on Pattern Analysis and Machine\\n     Intelligence, Vol. PAMI-2, No. 1, 67-71.\\n   - Gates, G.W. (1972) \"The Reduced Nearest Neighbor Rule\".  IEEE Transactions\\n     on Information Theory, May 1972, 431-433.\\n   - See also: 1988 MLC Proceedings, 54-64.  Cheeseman et al\"s AUTOCLASS II\\n     conceptual clustering system finds 3 classes in the data.\\n   - Many, many more ...\\n', 'feature_names': ['sepal length (cm)', 'sepal width (cm)', 'petal length (cm)', 'petal width (cm)']}\n"
     ]
    }
   ],
   "source": [
    "from sklearn import datasets\n",
    "\n",
    "iris = datasets.load_iris()\n",
    "\n",
    "data = iris.data\n",
    "print(type(df))\n",
    "#print(df)\n",
    "print(iris)"
   ]
  },
  {
   "cell_type": "code",
   "execution_count": 31,
   "metadata": {
    "collapsed": false
   },
   "outputs": [
    {
     "name": "stdout",
     "output_type": "stream",
     "text": [
      "['sepal length (cm)', 'sepal width (cm)', 'petal length (cm)', 'petal width (cm)']\n",
      "   sepal_length  sepal_width  petal_length  petal_width\n",
      "0           5.1          3.5           1.4          0.2\n",
      "1           4.9          3.0           1.4          0.2\n",
      "2           4.7          3.2           1.3          0.2\n",
      "3           4.6          3.1           1.5          0.2\n",
      "4           5.0          3.6           1.4          0.2\n",
      "<class 'pandas.core.frame.DataFrame'>\n",
      "       sepal_length  sepal_width  petal_length  petal_width\n",
      "count    150.000000   150.000000    150.000000   150.000000\n",
      "mean       5.843333     3.054000      3.758667     1.198667\n",
      "std        0.828066     0.433594      1.764420     0.763161\n",
      "min        4.300000     2.000000      1.000000     0.100000\n",
      "25%        5.100000     2.800000      1.600000     0.300000\n",
      "50%        5.800000     3.000000      4.350000     1.300000\n",
      "75%        6.400000     3.300000      5.100000     1.800000\n",
      "max        7.900000     4.400000      6.900000     2.500000\n"
     ]
    }
   ],
   "source": [
    "import pandas as pd\n",
    "\n",
    "df = pd.DataFrame(data=iris.data)\n",
    "print(iris.feature_names)\n",
    "\n",
    "feature_names = [ 'sepal_length', 'sepal_width', 'petal_length', 'petal_width']\n",
    "#df.columns = iris.feature_names\n",
    " \n",
    "df.columns = feature_names\n",
    "\n",
    "print(df.head())\n",
    "print(type(df))\n",
    "print(df.describe())"
   ]
  },
  {
   "cell_type": "code",
   "execution_count": null,
   "metadata": {
    "collapsed": true
   },
   "outputs": [],
   "source": [
    "# Read the iris dataset from a CSV file\n",
    "#df = pd.read_csv('/iris.csv')\n",
    "\n",
    "# Print data type for df\n",
    "#print( type(df) )"
   ]
  },
  {
   "cell_type": "markdown",
   "metadata": {},
   "source": [
    "## Create new feature"
   ]
  },
  {
   "cell_type": "code",
   "execution_count": 33,
   "metadata": {
    "collapsed": false
   },
   "outputs": [
    {
     "name": "stdout",
     "output_type": "stream",
     "text": [
      "   sepal_length  sepal_width  petal_length  petal_width  petal_area\n",
      "0           5.1          3.5           1.4          0.2        0.28\n",
      "1           4.9          3.0           1.4          0.2        0.28\n",
      "2           4.7          3.2           1.3          0.2        0.26\n",
      "3           4.6          3.1           1.5          0.2        0.30\n",
      "4           5.0          3.6           1.4          0.2        0.28\n"
     ]
    }
   ],
   "source": [
    "# Create new petal area feature\n",
    "df['petal_area'] = df.petal_width * df.petal_length\n",
    "print(df.head())"
   ]
  },
  {
   "cell_type": "code",
   "execution_count": 34,
   "metadata": {
    "collapsed": false
   },
   "outputs": [
    {
     "data": {
      "text/html": [
       "<div>\n",
       "<table border=\"1\" class=\"dataframe\">\n",
       "  <thead>\n",
       "    <tr style=\"text-align: right;\">\n",
       "      <th></th>\n",
       "      <th>sepal_length</th>\n",
       "      <th>sepal_width</th>\n",
       "      <th>petal_length</th>\n",
       "      <th>petal_width</th>\n",
       "      <th>petal_area</th>\n",
       "    </tr>\n",
       "  </thead>\n",
       "  <tbody>\n",
       "    <tr>\n",
       "      <th>100</th>\n",
       "      <td>6.3</td>\n",
       "      <td>3.3</td>\n",
       "      <td>6.0</td>\n",
       "      <td>2.5</td>\n",
       "      <td>15.00</td>\n",
       "    </tr>\n",
       "    <tr>\n",
       "      <th>109</th>\n",
       "      <td>7.2</td>\n",
       "      <td>3.6</td>\n",
       "      <td>6.1</td>\n",
       "      <td>2.5</td>\n",
       "      <td>15.25</td>\n",
       "    </tr>\n",
       "    <tr>\n",
       "      <th>117</th>\n",
       "      <td>7.7</td>\n",
       "      <td>3.8</td>\n",
       "      <td>6.7</td>\n",
       "      <td>2.2</td>\n",
       "      <td>14.74</td>\n",
       "    </tr>\n",
       "    <tr>\n",
       "      <th>118</th>\n",
       "      <td>7.7</td>\n",
       "      <td>2.6</td>\n",
       "      <td>6.9</td>\n",
       "      <td>2.3</td>\n",
       "      <td>15.87</td>\n",
       "    </tr>\n",
       "    <tr>\n",
       "      <th>135</th>\n",
       "      <td>7.7</td>\n",
       "      <td>3.0</td>\n",
       "      <td>6.1</td>\n",
       "      <td>2.3</td>\n",
       "      <td>14.03</td>\n",
       "    </tr>\n",
       "    <tr>\n",
       "      <th>144</th>\n",
       "      <td>6.7</td>\n",
       "      <td>3.3</td>\n",
       "      <td>5.7</td>\n",
       "      <td>2.5</td>\n",
       "      <td>14.25</td>\n",
       "    </tr>\n",
       "  </tbody>\n",
       "</table>\n",
       "</div>"
      ],
      "text/plain": [
       "     sepal_length  sepal_width  petal_length  petal_width  petal_area\n",
       "100           6.3          3.3           6.0          2.5       15.00\n",
       "109           7.2          3.6           6.1          2.5       15.25\n",
       "117           7.7          3.8           6.7          2.2       14.74\n",
       "118           7.7          2.6           6.9          2.3       15.87\n",
       "135           7.7          3.0           6.1          2.3       14.03\n",
       "144           6.7          3.3           5.7          2.5       14.25"
      ]
     },
     "execution_count": 34,
     "metadata": {},
     "output_type": "execute_result"
    }
   ],
   "source": [
    "# Filtering\n",
    "df[df.petal_area > 14]"
   ]
  },
  {
   "cell_type": "markdown",
   "metadata": {},
   "source": [
    "## Display Multiple columns"
   ]
  },
  {
   "cell_type": "code",
   "execution_count": 35,
   "metadata": {
    "collapsed": false
   },
   "outputs": [
    {
     "name": "stdout",
     "output_type": "stream",
     "text": [
      "   petal_length  petal_area\n",
      "0           1.4        0.28\n",
      "1           1.4        0.28\n",
      "2           1.3        0.26\n",
      "3           1.5        0.30\n",
      "4           1.4        0.28\n"
     ]
    }
   ],
   "source": [
    "# Note the notation [[col1, col2]]\n",
    "print(df[['petal_length', 'petal_area']].head())"
   ]
  },
  {
   "cell_type": "markdown",
   "metadata": {},
   "source": [
    "## Sort values"
   ]
  },
  {
   "cell_type": "code",
   "execution_count": 36,
   "metadata": {
    "collapsed": false
   },
   "outputs": [
    {
     "name": "stdout",
     "output_type": "stream",
     "text": [
      "     sepal_length  sepal_width  petal_length  petal_width  petal_area\n",
      "144           6.7          3.3           5.7          2.5       14.25\n",
      "117           7.7          3.8           6.7          2.2       14.74\n",
      "100           6.3          3.3           6.0          2.5       15.00\n",
      "109           7.2          3.6           6.1          2.5       15.25\n",
      "118           7.7          2.6           6.9          2.3       15.87\n"
     ]
    }
   ],
   "source": [
    "print( df.sort_values(by='petal_area').tail())"
   ]
  },
  {
   "cell_type": "markdown",
   "metadata": {},
   "source": [
    "## Group by"
   ]
  },
  {
   "cell_type": "code",
   "execution_count": 37,
   "metadata": {
    "collapsed": true
   },
   "outputs": [],
   "source": [
    "## df.groupby('column-name').mean()"
   ]
  },
  {
   "cell_type": "markdown",
   "metadata": {},
   "source": [
    "## Panda Example: Fetch data from net and plot."
   ]
  },
  {
   "cell_type": "code",
   "execution_count": 9,
   "metadata": {
    "collapsed": false
   },
   "outputs": [
    {
     "name": "stdout",
     "output_type": "stream",
     "text": [
      "                 Open       High        Low      Close     Volume  Adj Close\n",
      "Date                                                                        \n",
      "2011-01-03  20.450001  20.620001  20.379999  20.490000   54310200  17.384941\n",
      "2011-01-04  20.510000  20.600000  20.400000  20.520000   46273800  17.410395\n",
      "2011-01-05  20.580000  20.850000  20.530001  20.770000   69380400  17.622510\n",
      "2011-01-06  20.910000  20.959999  20.760000  20.950001   65845400  17.775233\n",
      "2011-01-07  20.860001  21.000000  20.830000  20.969999   67732200  17.792201\n",
      "2011-01-10  20.940001  20.950001  20.700001  20.790001   40679700  17.639480\n",
      "2011-01-11  20.900000  20.959999  20.790001  20.879999   38343800  17.715839\n",
      "2011-01-12  21.000000  21.139999  20.959999  21.120001   40646100  17.919471\n",
      "2011-01-13  21.180000  21.230000  21.010000  21.080000   35006700  17.885532\n",
      "2011-01-14  21.129999  21.240000  21.059999  21.209999   35176400  17.995831\n",
      "2011-01-18  21.219999  21.330000  21.209999  21.219999   46668500  18.004316\n",
      "2011-01-19  21.320000  21.330000  20.700001  20.820000   53574600  17.664932\n",
      "2011-01-20  20.610001  20.910000  20.500000  20.770000   53291700  17.622510\n",
      "2011-01-21  20.969999  20.980000  20.680000  20.730000   40172600  17.588571\n",
      "2011-01-24  20.840000  21.180000  20.730000  21.170000   44068400  17.961894\n",
      "2011-01-25  21.160000  21.570000  21.080000  21.540001   72726400  18.275824\n",
      "2011-01-26  21.480000  21.610001  21.260000  21.420000   65525000  18.174009\n",
      "2011-01-27  21.370001  21.490000  21.260000  21.440001   36827200  18.190978\n",
      "2011-01-28  21.490000  21.570000  20.860001  20.930000   46540500  17.758263\n",
      "2011-01-31  20.930000  21.180000  20.709999  21.150000   40390800  17.944924\n",
      "2011-02-01  21.270000  21.559999  21.260000  21.469999   40519800  18.216431\n",
      "2011-02-02  21.520000  21.690001  21.420000  21.620001   41287400  18.343701\n",
      "2011-02-03  21.700001  21.969999  21.650000  21.910000   54002000  18.589754\n",
      "2011-02-04  21.900000  22.150000  21.809999  22.049999   60134800  18.708538\n",
      "2011-02-07  22.110001  22.340000  22.030001  22.030001   52408400  18.691570\n",
      "2011-02-08  21.950001  22.010000  21.709999  21.990000   73163000  18.657630\n",
      "2011-02-09  21.920000  22.150000  21.900000  22.040001  125425600  18.700054\n",
      "2011-02-10  19.650000  19.700001  18.790001  18.920000  560040200  16.052859\n",
      "2011-02-11  19.110001  19.139999  18.610001  18.700001  189326900  15.866199\n",
      "2011-02-14  18.840000  18.950001  18.680000  18.809999  109308400  15.959528\n",
      "...               ...        ...        ...        ...        ...        ...\n",
      "2016-11-17  29.910000  30.049999  29.610001  30.049999   75252300  29.794170\n",
      "2016-11-18  30.110001  30.360001  30.010000  30.180000   38748600  29.923064\n",
      "2016-11-21  30.299999  30.330000  30.010000  30.049999   27481700  29.794170\n",
      "2016-11-22  30.080000  30.190001  29.850000  29.889999   26769300  29.635532\n",
      "2016-11-23  29.830000  29.950001  29.559999  29.709999   24496800  29.457064\n",
      "2016-11-25  29.600000  30.150000  29.549999  30.090000   17678900  29.833830\n",
      "2016-11-28  30.080000  30.090000  29.820000  29.920000   21468900  29.665278\n",
      "2016-11-29  29.940001  30.100000  29.790001  29.830000   23553700  29.576044\n",
      "2016-11-30  29.760000  29.950001  29.680000  29.820000   26224900  29.566129\n",
      "2016-12-01  29.840000  29.850000  29.400000  29.450001   25996200  29.199280\n",
      "2016-12-02  29.309999  29.559999  29.120001  29.250000   27069500  29.000982\n",
      "2016-12-05  29.330000  29.600000  29.290001  29.530001   20865800  29.278598\n",
      "2016-12-06  29.420000  29.590000  29.240000  29.330000   27352100  29.080300\n",
      "2016-12-07  29.480000  30.040001  29.320000  29.950001   30180100  29.695023\n",
      "2016-12-08  30.110001  30.330000  29.920000  29.950001   21369900  29.695023\n",
      "2016-12-09  29.980000  30.070000  29.730000  30.059999   21362000  29.804085\n",
      "2016-12-12  30.080000  30.200001  30.030001  30.170000   17287800  29.913149\n",
      "2016-12-13  30.299999  30.639999  30.200001  30.590000   25052900  30.329574\n",
      "2016-12-14  30.600000  31.070000  30.410000  30.459999   27556000  30.200679\n",
      "2016-12-15  30.590000  30.799999  30.510000  30.629999   20914100  30.369232\n",
      "2016-12-16  30.700001  30.719999  30.270000  30.590000   45875500  30.329574\n",
      "2016-12-19  30.650000  30.870001  30.540001  30.750000   18178500  30.488211\n",
      "2016-12-20  30.830000  30.870001  30.459999  30.559999   17475200  30.299828\n",
      "2016-12-21  30.690001  30.690001  30.410000  30.420000   14488900  30.161021\n",
      "2016-12-22  30.400000  30.480000  30.250000  30.459999   12935800  30.200679\n",
      "2016-12-23  30.540001  30.600000  30.400000  30.530001    9167500  30.270085\n",
      "2016-12-27  30.639999  30.820000  30.600000  30.680000   14175500  30.418808\n",
      "2016-12-28  30.700001  30.770000  30.350000  30.420000   12022200  30.161021\n",
      "2016-12-29  30.370001  30.549999  30.330000  30.459999   10995600  30.200679\n",
      "2016-12-30  30.559999  30.600000  30.129999  30.219999   20190000  29.962723\n",
      "\n",
      "[1510 rows x 6 columns]\n"
     ]
    },
    {
     "data": {
      "image/png": "[encoded data removed]",
      "text/plain": [
       "<matplotlib.figure.Figure at 0x113f8e310>"
      ]
     },
     "metadata": {},
     "output_type": "display_data"
    }
   ],
   "source": [
    "import pandas as pd\n",
    "import matplotlib.pyplot as plt\n",
    "from matplotlib import style\n",
    "import pandas.io.data as web\n",
    "import datetime\n",
    "\n",
    "%matplotlib inline\n",
    "\n",
    "# get the stock data for CSCO\n",
    "start = datetime.datetime(2011, 1, 1)\n",
    "end   = datetime.datetime(2017, 1, 1)\n",
    "\n",
    "df = web.DataReader('CSCO', 'yahoo', start, end)\n",
    "print(df)\n",
    "\n",
    "style.use(\"ggplot\")\n",
    "df['Adj Close'].plot()\n",
    "\n",
    "plt.show()"
   ]
  },
  {
   "cell_type": "code",
   "execution_count": 5,
   "metadata": {
    "collapsed": false
   },
   "outputs": [
    {
     "name": "stdout",
     "output_type": "stream",
     "text": [
      "Help on function DataReader in module pandas.io.data:\n",
      "\n",
      "DataReader(name, data_source=None, start=None, end=None, retry_count=3, pause=0.001)\n",
      "    Imports data from a number of online sources.\n",
      "    \n",
      "    Currently supports Yahoo! Finance, Google Finance, St. Louis FED (FRED)\n",
      "    and Kenneth French's data library.\n",
      "    \n",
      "    Parameters\n",
      "    ----------\n",
      "    name : str or list of strs\n",
      "        the name of the dataset. Some data sources (yahoo, google, fred) will\n",
      "        accept a list of names.\n",
      "    data_source: str, default: None\n",
      "        the data source (\"yahoo\", \"google\", \"fred\", or \"ff\")\n",
      "    start : datetime, default: None\n",
      "        left boundary for range (defaults to 1/1/2010)\n",
      "    end : datetime, default: None\n",
      "        right boundary for range (defaults to today)\n",
      "    retry_count : int, default 3\n",
      "        Number of times to retry query request.\n",
      "    pause : numeric, default 0.001\n",
      "        Time, in seconds, to pause between consecutive queries of chunks. If\n",
      "        single value given for symbol, represents the pause between retries.\n",
      "    \n",
      "    Examples\n",
      "    ----------\n",
      "    \n",
      "    # Data from Yahoo! Finance\n",
      "    gs = DataReader(\"GS\", \"yahoo\")\n",
      "    \n",
      "    # Data from Google Finance\n",
      "    aapl = DataReader(\"AAPL\", \"google\")\n",
      "    \n",
      "    # Data from FRED\n",
      "    vix = DataReader(\"VIXCLS\", \"fred\")\n",
      "    \n",
      "    # Data from Fama/French\n",
      "    ff = DataReader(\"F-F_Research_Data_Factors\", \"famafrench\")\n",
      "    ff = DataReader(\"F-F_Research_Data_Factors_weekly\", \"famafrench\")\n",
      "    ff = DataReader(\"6_Portfolios_2x3\", \"famafrench\")\n",
      "    ff = DataReader(\"F-F_ST_Reversal_Factor\", \"famafrench\")\n",
      "\n"
     ]
    }
   ],
   "source": [
    "help(web.DataReader)\n"
   ]
  },
  {
   "cell_type": "code",
   "execution_count": null,
   "metadata": {
    "collapsed": true
   },
   "outputs": [],
   "source": []
  }
 ],
 "metadata": {
  "anaconda-cloud": {},
  "kernelspec": {
   "display_name": "Python [conda root]",
   "language": "python",
   "name": "conda-root-py"
  },
  "language_info": {
   "codemirror_mode": {
    "name": "ipython",
    "version": 2
   },
   "file_extension": ".py",
   "mimetype": "text/x-python",
   "name": "python",
   "nbconvert_exporter": "python",
   "pygments_lexer": "ipython2",
   "version": "2.7.12"
  }
 },
 "nbformat": 4,
 "nbformat_minor": 1
}
